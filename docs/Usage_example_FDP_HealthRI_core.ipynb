{
 "cells": [
  {
   "cell_type": "markdown",
   "id": "8ef630c0-1c7b-4aea-b674-0772d5085aec",
   "metadata": {},
   "source": "# Preparing and uploading data to Fair Data Point (FDP) compliant with the Health-RI core shapes using SeMPyRO"
  },
  {
   "cell_type": "markdown",
   "id": "8bff32b5-6f5c-4c6b-953b-e8f9a8ddd681",
   "metadata": {},
   "source": [
    "**Prerequirements:** To execute this notebook in full one needs to have a running FAIR Data Point (FDP) instance with an active write access account.\n",
    "\n",
    "I used [sample](https://github.com/Health-RI/health-ri-metadata) data as a reference for the Health-RI core shapes. The shapes are available at the repo: [shapes](https://github.com/Health-RI/health-ri-metadata/tree/develop/Formalisation(shacl)/Core/PiecesShape). And the FDP instance I used is https://fdp-test.health-ri.nl. The sample data is also available in metadata repository\n",
    "\n",
    "FDP requires each dataset to be a part of a catalogue, therefore we need to create a catalogue. Let's see what we need to provide for that:"
   ]
  },
  {
   "cell_type": "code",
   "id": "cff57267-1900-4b21-a8c5-fd5e16c61342",
   "metadata": {
    "ExecuteTime": {
     "end_time": "2024-09-16T12:04:11.690909Z",
     "start_time": "2024-09-16T12:04:11.687331Z"
    }
   },
   "source": [
    "from sempyro.hri_dcat import HRICatalog\n",
    "\n",
    "catalog_fields = HRICatalog.annotate_model()\n",
    "print(catalog_fields.mandatory_fields())"
   ],
   "outputs": [
    {
     "name": "stdout",
     "output_type": "stream",
     "text": [
      "['description', 'publisher', 'title']\n"
     ]
    }
   ],
   "execution_count": 93
  },
  {
   "cell_type": "markdown",
   "id": "b9c8b731-d5b8-43aa-9a93-6c4781f51393",
   "metadata": {},
   "source": "Let's create a minimum catalogue with an example title and description. We also need a URI to use as a graph subject at serialization. A FDP requirement is a link pointing to a parent object, in the case of a catalogue it is FDP itself and it should be a property `is_part_of` in the range `DCTERMS.isPartOf`. More about this in the other example Usage_example_FDP.ipynb. We used the reusable code from this example.  Let's use `example.com` domain for now for this purpose:"
  },
  {
   "cell_type": "code",
   "id": "af6617c9-edef-4b28-a3f5-c36cec1dfa33",
   "metadata": {
    "ExecuteTime": {
     "end_time": "2024-09-16T12:04:28.186648Z",
     "start_time": "2024-09-16T12:04:13.810552Z"
    }
   },
   "source": [
    "from sempyro import LiteralField\n",
    "from sempyro.foaf import Agent\n",
    "from sempyro.hri_dcat import HRICatalog\n",
    "from rdflib import URIRef, DCTERMS\n",
    "from pydantic import AnyHttpUrl, Field\n",
    "\n",
    "EX = \"https://example.com\"\n",
    "fdp_base=input(\"Enter base link to FDP: \")\n",
    "\n",
    "class FDPCatalog(HRICatalog):\n",
    "    is_part_of: [AnyHttpUrl] = Field(description=\"Link to parent object\",\n",
    "                                   rdf_term=DCTERMS.isPartOf,\n",
    "                                   rdf_type=\"uri\"\n",
    "                                  )\n",
    "\n",
    "# Create a class instance with the same data\n",
    "fdp_catalog = FDPCatalog(\n",
    "    title=[LiteralField(value=\"Inflammatory Bowel Disease catalogue\", language=\"en\")],\n",
    "    description=[LiteralField(value=\"This catalogue describes the core metadata of AUMC Inflammatory Bowel Disease datasets\", language=\"en\")],\n",
    "    publisher=[Agent(\n",
    "                                 name=[\n",
    "                                     LiteralField(value=\"Academic Medical Center\")],\n",
    "                                 identifier=\"https://ror.org/05wg1m734\")],\n",
    "    is_part_of=[fdp_base],\n",
    "    dataset=[]\n",
    "                        )\n",
    "\n",
    "fdp_catalog_record = fdp_catalog.to_graph(URIRef(f\"{EX}/test_catalog_1\"))\n",
    "print(fdp_catalog_record.serialize())\n",
    "\n",
    "\n"
   ],
   "outputs": [
    {
     "name": "stdout",
     "output_type": "stream",
     "text": [
      "@prefix dcat: <http://www.w3.org/ns/dcat#> .\n",
      "@prefix dcterms: <http://purl.org/dc/terms/> .\n",
      "@prefix foaf: <http://xmlns.com/foaf/0.1/> .\n",
      "\n",
      "<https://example.com/test_catalog_1> a dcat:Catalog ;\n",
      "    dcterms:description \"This catalogue describes the core metadata of AUMC Inflammatory Bowel Disease datasets\"@en ;\n",
      "    dcterms:isPartOf <https://fdp-test.healthdata.nl> ;\n",
      "    dcterms:publisher [ a foaf:Agent ;\n",
      "            dcterms:identifier \"https://ror.org/05wg1m734\" ;\n",
      "            foaf:name \"Academic Medical Center\" ] ;\n",
      "    dcterms:title \"Inflammatory Bowel Disease catalogue\"@en .\n",
      "\n",
      "\n"
     ]
    },
    {
     "name": "stderr",
     "output_type": "stream",
     "text": [
      "/Users/hcvanderwerf/Github/SeMPyRO/venv/lib/python3.9/site-packages/pydantic/_internal/_generate_schema.py:355: UserWarning: [typing.Annotated[pydantic_core._pydantic_core.Url, UrlConstraints(max_length=None, allowed_schemes=['http', 'https'], host_required=None, default_host=None, default_port=None, default_path=None)]] is not a Python type (it may be an instance of an object), Pydantic will allow any object with no validation since we cannot even enforce that the input is an instance of the given type. To get rid of this error wrap the type with `pydantic.SkipValidation`.\n",
      "  warn(\n"
     ]
    }
   ],
   "execution_count": 94
  },
  {
   "cell_type": "markdown",
   "id": "515557de-b2e3-4fb3-a25f-f92b291f1b08",
   "metadata": {},
   "source": [
    "Now we need to define an FDP API client which can log into an FDP, get a token and perform basic calls.\n"
   ]
  },
  {
   "cell_type": "code",
   "id": "d38b7d42-e4f1-41b2-8c4b-74d292a26c7a",
   "metadata": {
    "ExecuteTime": {
     "end_time": "2024-09-16T12:04:38.819522Z",
     "start_time": "2024-09-16T12:04:38.808819Z"
    }
   },
   "source": [
    "import logging\n",
    "import requests\n",
    "from typing import Dict, Union\n",
    "from requests import Response\n",
    "from urllib.parse import urljoin\n",
    "import urllib3\n",
    "import sys\n",
    "\n",
    "logger = logging.getLogger(__name__)\n",
    "\n",
    "class FDPClient:\n",
    "\n",
    "    def __init__(self, base_url: str, username: str, password: str):\n",
    "        self.base_url = base_url\n",
    "        self.username = username\n",
    "        self.password = password\n",
    "        self.token = self.login_fdp()\n",
    "        self.headers = self.get_headers()\n",
    "        self.session = requests.session()\n",
    "        self.session.headers.update(self.headers)\n",
    "        self.ssl_verification = False\n",
    "        urllib3.disable_warnings(urllib3.exceptions.InsecureRequestWarning)\n",
    "        \n",
    "\n",
    "    def login_fdp(self) -> str:\n",
    "        token_response = requests.post(\n",
    "            f\"{self.base_url}/tokens\",\n",
    "            json={\"email\": self.username, \"password\": self.password},\n",
    "        )\n",
    "        token_response.raise_for_status()\n",
    "        response = token_response.json()\n",
    "        return response[\"token\"]\n",
    "\n",
    "    def get_headers(self):\n",
    "        return {\"Authorization\": f\"Bearer {self.token}\", \"Content-Type\": \"text/turtle\"}\n",
    "\n",
    "\n",
    "    def _call_method(self, method, path, params: Dict = None, data=None):\n",
    "        if method.upper() not in [\"GET\", \"POST\", \"PUT\", \"DELETE\"]:\n",
    "            raise ValueError(f\"Unsupported method {method}\")\n",
    "        url = urljoin(self.base_url, path)\n",
    "        response = None\n",
    "        try:\n",
    "            response = self.session.request(\n",
    "                method, url, params=params, data=data, verify=self.ssl_verification\n",
    "            )\n",
    "            response.raise_for_status()\n",
    "            return response\n",
    "        except requests.exceptions.HTTPError as e:\n",
    "            logger.error(e)\n",
    "            if response is not None:\n",
    "                logger.error(response.text)\n",
    "            sys.exit(1)\n",
    "        except (requests.exceptions.ConnectionError, requests.exceptions.Timeout, requests.exceptions.RequestException) as e:\n",
    "            logger.error(e)\n",
    "            sys.exit(1)\n",
    "\n",
    "    def get(self, path: str, params: Dict = None) -> Response:\n",
    "        return self._call_method(\"GET\", path, params=params)\n",
    "\n",
    "    def post(self, path: str, params: Dict = None, data=None) -> Response:\n",
    "        return self._call_method(\"POST\", path, params=params, data=data)\n",
    "\n",
    "    def update(self, path: str, params: Dict = None, data=None) -> Response:\n",
    "        return self._call_method(\"PUT\", path, params=params, data=data)\n",
    "\n",
    "    def delete(self, path: str, params: Dict = None, data=None) -> Response:\n",
    "        return self._call_method(\"DELETE\", path, params=params, data=data)"
   ],
   "outputs": [],
   "execution_count": 95
  },
  {
   "cell_type": "markdown",
   "id": "0f415bd0-a9a6-496e-a011-38d5d8cbeb4e",
   "metadata": {},
   "source": [
    "Publishing a record in FDP consists of two steps: creating a record and publishing. These two actions are performed as API calls with different content types, so we need to implement methods for changing content type, creating a record and publishing the record. After that, the client looks like this:"
   ]
  },
  {
   "cell_type": "code",
   "id": "5968c450-08d2-4e9a-aabf-581dc69a46a1",
   "metadata": {
    "ExecuteTime": {
     "end_time": "2024-09-16T12:04:42.592159Z",
     "start_time": "2024-09-16T12:04:42.579905Z"
    }
   },
   "source": [
    "from rdflib import Graph\n",
    "\n",
    "\n",
    "class FDPEndPoints:\n",
    "    meta = \"meta\"\n",
    "    state = f\"{meta}/state\"\n",
    "    members = \"members\"\n",
    "    expanded = \"expanded\"\n",
    "\n",
    "\n",
    "class FDPClient:\n",
    "\n",
    "    def __init__(self, base_url: str, username: str, password: str):\n",
    "        self.base_url = base_url\n",
    "        self.username = username\n",
    "        self.password = password\n",
    "        self.token = self.login_fdp()\n",
    "        self.headers = self.get_headers()\n",
    "        self.session = requests.session()\n",
    "        self.session.headers.update(self.headers)\n",
    "        self.ssl_verification = False\n",
    "        urllib3.disable_warnings(urllib3.exceptions.InsecureRequestWarning)\n",
    "        \n",
    "\n",
    "    def login_fdp(self) -> str:\n",
    "        token_response = requests.post(\n",
    "            f\"{self.base_url}/tokens\",\n",
    "            json={\"email\": self.username, \"password\": self.password},\n",
    "        )\n",
    "        token_response.raise_for_status()\n",
    "        response = token_response.json()\n",
    "        return response[\"token\"]\n",
    "\n",
    "    def get_headers(self):\n",
    "        return {\"Authorization\": f\"Bearer {self.token}\", \"Content-Type\": \"text/turtle\"}\n",
    "\n",
    "\n",
    "    def _call_method(self, method, path, params: Dict = None, data=None):\n",
    "        if method.upper() not in [\"GET\", \"POST\", \"PUT\", \"DELETE\"]:\n",
    "            raise ValueError(f\"Unsupported method {method}\")\n",
    "        url = urljoin(self.base_url, path)\n",
    "        response = None\n",
    "        try:\n",
    "            response = self.session.request(\n",
    "                method, url, params=params, data=data, verify=self.ssl_verification\n",
    "            )\n",
    "            response.raise_for_status()\n",
    "            return response\n",
    "        except requests.exceptions.HTTPError as e:\n",
    "            logger.error(e)\n",
    "            if response is not None:\n",
    "                logger.error(response.text)\n",
    "            sys.exit(1)\n",
    "        except (requests.exceptions.ConnectionError, requests.exceptions.Timeout, requests.exceptions.RequestException) as e:\n",
    "            logger.error(e)\n",
    "            sys.exit(1)\n",
    "\n",
    "    def get(self, path: str, params: Dict = None) -> Response:\n",
    "        return self._call_method(\"GET\", path, params=params)\n",
    "\n",
    "    def post(self, path: str, params: Dict = None, data=None) -> Response:\n",
    "        return self._call_method(\"POST\", path, params=params, data=data)\n",
    "\n",
    "    def update(self, path: str, params: Dict = None, data=None) -> Response:\n",
    "        return self._call_method(\"PUT\", path, params=params, data=data)\n",
    "\n",
    "    def delete(self, path: str, params: Dict = None, data=None) -> Response:\n",
    "        return self._call_method(\"DELETE\", path, params=params, data=data)\n",
    "\n",
    "    def _update_session_headers(self):\n",
    "        self.session.headers.update(self.headers)\n",
    "\n",
    "    def _change_content_type(self, content_type):\n",
    "        self.headers[\"Content-Type\"] = content_type\n",
    "        self._update_session_headers()\n",
    "\n",
    "    def post_serialised(self, resource_type: str, metadata: Graph) -> Union[requests.Response, None]:\n",
    "        self._change_content_type(\"text/turtle\")\n",
    "        path = f\"{self.base_url}/{resource_type}\"\n",
    "        response = self.post(path=path, data=metadata.serialize())\n",
    "        return response\n",
    "\n",
    "    def publish_record(self, record_url):\n",
    "        self._change_content_type(\"application/json\")\n",
    "        path = f\"{record_url}/{FDPEndPoints.state}\"\n",
    "        data = '{\"current\": \"PUBLISHED\"}'\n",
    "        self.update(path=path, data=data)\n",
    "\n",
    "    def create_and_publish(self, resource_type: str, metadata: Graph) -> URIRef:\n",
    "        post_response = self.post_serialised(resource_type=resource_type, metadata=metadata)\n",
    "        fdp_subject = URIRef(post_response.headers[\"Location\"])\n",
    "        self.publish_record(fdp_subject)\n",
    "        return fdp_subject"
   ],
   "outputs": [],
   "execution_count": 96
  },
  {
   "cell_type": "code",
   "id": "645f50e3-63c0-460a-aece-64a112c30f64",
   "metadata": {
    "ExecuteTime": {
     "end_time": "2024-09-16T12:04:44.957079Z",
     "start_time": "2024-09-16T12:04:44.954474Z"
    }
   },
   "source": "username=\"albert.einstein@example.com\"",
   "outputs": [],
   "execution_count": 97
  },
  {
   "cell_type": "code",
   "id": "39cceb04-1120-432e-81f3-135424c7ac63",
   "metadata": {
    "ExecuteTime": {
     "end_time": "2024-09-16T12:04:45.598542Z",
     "start_time": "2024-09-16T12:04:45.596468Z"
    }
   },
   "source": [
    "from getpass import getpass\n",
    "password = \"teu@vky8jdz2jtf5PRY\""
   ],
   "outputs": [],
   "execution_count": 98
  },
  {
   "cell_type": "markdown",
   "id": "265aa53e-0698-4e06-9788-95f864f7c9da",
   "metadata": {},
   "source": "Now we can create a client instance and publish the catalogue record to FDP:"
  },
  {
   "cell_type": "code",
   "id": "c4861c8a-0c81-470d-a1b7-b65c56c5c410",
   "metadata": {
    "ExecuteTime": {
     "end_time": "2024-09-16T12:05:02.487145Z",
     "start_time": "2024-09-16T12:04:47.264765Z"
    }
   },
   "source": [
    "fdp_client = FDPClient(base_url=fdp_base, username=username, password=password)\n",
    "\n",
    "catalog_fdp_id = fdp_client.create_and_publish(resource_type=\"catalog\", metadata=fdp_catalog_record)\n",
    "print(catalog_fdp_id)"
   ],
   "outputs": [
    {
     "name": "stdout",
     "output_type": "stream",
     "text": [
      "https://fdp-test.healthdata.nl/catalog/0c1e5d32-823b-4b3b-b9e0-f994b0c7ef08\n"
     ]
    }
   ],
   "execution_count": 99
  },
  {
   "cell_type": "markdown",
   "id": "57120302-f30d-4ab5-9172-385cf66bb7e2",
   "metadata": {},
   "source": "Now we need to add datasets to the catalogue. Data for example datasets will be used from [sample](https://github.com/Health-RI/health-ri-metadata) "
  },
  {
   "cell_type": "code",
   "id": "8e39cbff-73f6-4cf0-bba1-a49066822324",
   "metadata": {
    "ExecuteTime": {
     "end_time": "2024-09-16T12:06:45.234102Z",
     "start_time": "2024-09-16T12:06:45.228254Z"
    }
   },
   "source": [
    "from sempyro.hri_dcat import HRIDataset\n",
    "from sempyro.vcard import VCard\n",
    "import dateutil.parser as parser\n",
    "\n",
    "hri_dataset = HRIDataset(\n",
    "    contact_point=[\n",
    "        VCard(hasEmail=[URIRef(\"mailto:data-access-committee@xumc.nl\")],\n",
    "              full_name=[\"Data Access Committee of the x UMC\"], hasUID=\"https://ror.org/05wg1m734\")\n",
    "    ],\n",
    "    creator=[Agent(name=[\"Academic Medical Center\"], identifier=\"https://ror.org/05wg1m734\")],\n",
    "    description=[LiteralField(value=\n",
    "                              \"The primary aim of the PRISMA study was to investigate the potential value of risk-tailored versus \"\n",
    "                              \"traditional breast cancer screening protocols in the Netherlands. Data collection took place between \"\n",
    "                              \"2014-2019, resulting in ∼67,000 mammograms, ∼38,000 surveys, ∼10,000 blood samples and ∼600 saliva \"\n",
    "                              \"samples.\")],\n",
    "    issued=parser.isoparse(\"2024-07-01T11:11:11\"),\n",
    "    identifier=f\"{EX}/dataset/ZLOYOJ\",\n",
    "    modified=parser.isoparse(\"2024-06-04T13:36:10.246Z\"),\n",
    "    publisher=[\n",
    "        Agent(name=[\"Radboud University Medical Center\"], identifier=\"https://ror.org/05wg1m734\")],\n",
    "    theme=[URIRef(\"http://publications.europa.eu/resource/authority/data-theme/HEAL\")],\n",
    "    title=[LiteralField(value=\"Questionnaire data of the Personalised RISk-based MAmmascreening Study (PRISMA)\")],\n",
    "    license=URIRef(\"https://creativecommons.org/licenses/by-sa/4.0/\"),\n",
    "    distribution=[]\n",
    ")\n",
    "\n",
    "#fdp_dataset_record = hri_dataset.to_graph(subject=URIRef(hri_dataset.identifier))"
   ],
   "outputs": [],
   "execution_count": 100
  },
  {
   "cell_type": "markdown",
   "id": "9693bfda-34f0-4f1b-bc5f-b37a86b9bdb9",
   "metadata": {},
   "source": "Make sure the dataset is correctly serialized link it to the catalogue and publish it:\n"
  },
  {
   "metadata": {
    "ExecuteTime": {
     "end_time": "2024-09-16T11:40:56.096966Z",
     "start_time": "2024-09-16T11:40:55.957441Z"
    }
   },
   "cell_type": "code",
   "source": [
    "fdp_dataset_record = hri_dataset.to_graph(subject=URIRef(hri_dataset.identifier))\n",
    "fdp_dataset_record.add((URIRef(hri_dataset.identifier), DCTERMS.isPartOf, URIRef(catalog_fdp_id)))\n",
    "dataset_fdp_id = fdp_client.create_and_publish(resource_type=\"dataset\", metadata=fdp_dataset_record)"
   ],
   "id": "30d8dff4f3bdd78",
   "outputs": [
    {
     "name": "stderr",
     "output_type": "stream",
     "text": [
      "400 Client Error: Bad Request for url: https://fdp-test.healthdata.nl/dataset\n",
      "Unable to read RDF (parse exception)\n"
     ]
    },
    {
     "name": "stdout",
     "output_type": "stream",
     "text": [
      "@prefix dcat: <http://www.w3.org/ns/dcat#> .\n",
      "@prefix dcterms: <http://purl.org/dc/terms/> .\n",
      "@prefix foaf: <http://xmlns.com/foaf/0.1/> .\n",
      "@prefix v: <http://www.w3.org/2006/vcard/ns#> .\n",
      "@prefix xsd: <http://www.w3.org/2001/XMLSchema#> .\n",
      "\n",
      "<https://example.com/dataset/ZLOYOJ> a dcat:Dataset ;\n",
      "    dcterms:creator [ a foaf:Agent ;\n",
      "            dcterms:identifier \"https://ror.org/05wg1m734\" ;\n",
      "            foaf:name \"Academic Medical Center\" ] ;\n",
      "    dcterms:description \"The primary aim of the PRISMA study was to investigate the potential value of risk-tailored versus traditional breast cancer screening protocols in the Netherlands. Data collection took place between 2014-2019, resulting in ∼67,000 mammograms, ∼38,000 surveys, ∼10,000 blood samples and ∼600 saliva samples.\" ;\n",
      "    dcterms:identifier \"https://example.com/dataset/ZLOYOJ\" ;\n",
      "    dcterms:isPartOf <https://fdp-test.healthdata.nl/catalog/1a4855b6-d417-41de-ae7a-4fc291bc2f13> ;\n",
      "    dcterms:issued \"2024-07-01T11:11:11\"^^xsd:dateTime ;\n",
      "    dcterms:license <https://creativecommons.org/licenses/by-sa/4.0/> ;\n",
      "    dcterms:modified \"2024-06-04T13:36:10.246000+00:00\"^^xsd:dateTime ;\n",
      "    dcterms:publisher [ a foaf:Agent ;\n",
      "            dcterms:identifier \"https://ror.org/05wg1m734\" ;\n",
      "            foaf:name \"Radboud University Medical Center\" ] ;\n",
      "    dcterms:title \"Questionnaire data of the Personalised RISk-based MAmmascreening Study (PRISMA)\" ;\n",
      "    dcat:contactPoint [ a v:Kind ;\n",
      "            v:fn \"Data Access Committee of the x UMC\" ;\n",
      "            v:hasEmail <mailto:data-access-committee@xumc.nl> ;\n",
      "            v:hasUID <https://ror.org/05wg1m734> ] ;\n",
      "    dcat:theme <http://publications.europa.eu/resource/authority/data-theme/HEAL> .\n",
      "\n",
      "\n"
     ]
    },
    {
     "ename": "AttributeError",
     "evalue": "'tuple' object has no attribute 'tb_frame'",
     "output_type": "error",
     "traceback": [
      "\u001B[0;31m---------------------------------------------------------------------------\u001B[0m",
      "\u001B[0;31mHTTPError\u001B[0m                                 Traceback (most recent call last)",
      "Cell \u001B[0;32mIn[86], line 47\u001B[0m, in \u001B[0;36mFDPClient._call_method\u001B[0;34m(self, method, path, params, data)\u001B[0m\n\u001B[1;32m     44\u001B[0m response \u001B[38;5;241m=\u001B[39m \u001B[38;5;28mself\u001B[39m\u001B[38;5;241m.\u001B[39msession\u001B[38;5;241m.\u001B[39mrequest(\n\u001B[1;32m     45\u001B[0m     method, url, params\u001B[38;5;241m=\u001B[39mparams, data\u001B[38;5;241m=\u001B[39mdata, verify\u001B[38;5;241m=\u001B[39m\u001B[38;5;28mself\u001B[39m\u001B[38;5;241m.\u001B[39mssl_verification\n\u001B[1;32m     46\u001B[0m )\n\u001B[0;32m---> 47\u001B[0m \u001B[43mresponse\u001B[49m\u001B[38;5;241;43m.\u001B[39;49m\u001B[43mraise_for_status\u001B[49m\u001B[43m(\u001B[49m\u001B[43m)\u001B[49m\n\u001B[1;32m     48\u001B[0m \u001B[38;5;28;01mreturn\u001B[39;00m response\n",
      "File \u001B[0;32m~/Github/SeMPyRO/venv/lib/python3.9/site-packages/requests/models.py:1021\u001B[0m, in \u001B[0;36mResponse.raise_for_status\u001B[0;34m(self)\u001B[0m\n\u001B[1;32m   1020\u001B[0m \u001B[38;5;28;01mif\u001B[39;00m http_error_msg:\n\u001B[0;32m-> 1021\u001B[0m     \u001B[38;5;28;01mraise\u001B[39;00m HTTPError(http_error_msg, response\u001B[38;5;241m=\u001B[39m\u001B[38;5;28mself\u001B[39m)\n",
      "\u001B[0;31mHTTPError\u001B[0m: 400 Client Error: Bad Request for url: https://fdp-test.healthdata.nl/dataset",
      "\nDuring handling of the above exception, another exception occurred:\n",
      "\u001B[0;31mSystemExit\u001B[0m                                Traceback (most recent call last)",
      "    \u001B[0;31m[... skipping hidden 1 frame]\u001B[0m\n",
      "Cell \u001B[0;32mIn[92], line 3\u001B[0m\n\u001B[1;32m      2\u001B[0m \u001B[38;5;28mprint\u001B[39m(fdp_dataset_record\u001B[38;5;241m.\u001B[39mserialize())\n\u001B[0;32m----> 3\u001B[0m dataset_fdp_id \u001B[38;5;241m=\u001B[39m \u001B[43mfdp_client\u001B[49m\u001B[38;5;241;43m.\u001B[39;49m\u001B[43mcreate_and_publish\u001B[49m\u001B[43m(\u001B[49m\u001B[43mresource_type\u001B[49m\u001B[38;5;241;43m=\u001B[39;49m\u001B[38;5;124;43m\"\u001B[39;49m\u001B[38;5;124;43mdataset\u001B[39;49m\u001B[38;5;124;43m\"\u001B[39;49m\u001B[43m,\u001B[49m\u001B[43m \u001B[49m\u001B[43mmetadata\u001B[49m\u001B[38;5;241;43m=\u001B[39;49m\u001B[43mfdp_dataset_record\u001B[49m\u001B[43m)\u001B[49m\n",
      "Cell \u001B[0;32mIn[86], line 90\u001B[0m, in \u001B[0;36mFDPClient.create_and_publish\u001B[0;34m(self, resource_type, metadata)\u001B[0m\n\u001B[1;32m     89\u001B[0m \u001B[38;5;28;01mdef\u001B[39;00m \u001B[38;5;21mcreate_and_publish\u001B[39m(\u001B[38;5;28mself\u001B[39m, resource_type: \u001B[38;5;28mstr\u001B[39m, metadata: Graph) \u001B[38;5;241m-\u001B[39m\u001B[38;5;241m>\u001B[39m URIRef:\n\u001B[0;32m---> 90\u001B[0m     post_response \u001B[38;5;241m=\u001B[39m \u001B[38;5;28;43mself\u001B[39;49m\u001B[38;5;241;43m.\u001B[39;49m\u001B[43mpost_serialised\u001B[49m\u001B[43m(\u001B[49m\u001B[43mresource_type\u001B[49m\u001B[38;5;241;43m=\u001B[39;49m\u001B[43mresource_type\u001B[49m\u001B[43m,\u001B[49m\u001B[43m \u001B[49m\u001B[43mmetadata\u001B[49m\u001B[38;5;241;43m=\u001B[39;49m\u001B[43mmetadata\u001B[49m\u001B[43m)\u001B[49m\n\u001B[1;32m     91\u001B[0m     fdp_subject \u001B[38;5;241m=\u001B[39m URIRef(post_response\u001B[38;5;241m.\u001B[39mheaders[\u001B[38;5;124m\"\u001B[39m\u001B[38;5;124mLocation\u001B[39m\u001B[38;5;124m\"\u001B[39m])\n",
      "Cell \u001B[0;32mIn[86], line 80\u001B[0m, in \u001B[0;36mFDPClient.post_serialised\u001B[0;34m(self, resource_type, metadata)\u001B[0m\n\u001B[1;32m     79\u001B[0m path \u001B[38;5;241m=\u001B[39m \u001B[38;5;124mf\u001B[39m\u001B[38;5;124m\"\u001B[39m\u001B[38;5;132;01m{\u001B[39;00m\u001B[38;5;28mself\u001B[39m\u001B[38;5;241m.\u001B[39mbase_url\u001B[38;5;132;01m}\u001B[39;00m\u001B[38;5;124m/\u001B[39m\u001B[38;5;132;01m{\u001B[39;00mresource_type\u001B[38;5;132;01m}\u001B[39;00m\u001B[38;5;124m\"\u001B[39m\n\u001B[0;32m---> 80\u001B[0m response \u001B[38;5;241m=\u001B[39m \u001B[38;5;28;43mself\u001B[39;49m\u001B[38;5;241;43m.\u001B[39;49m\u001B[43mpost\u001B[49m\u001B[43m(\u001B[49m\u001B[43mpath\u001B[49m\u001B[38;5;241;43m=\u001B[39;49m\u001B[43mpath\u001B[49m\u001B[43m,\u001B[49m\u001B[43m \u001B[49m\u001B[43mdata\u001B[49m\u001B[38;5;241;43m=\u001B[39;49m\u001B[43mmetadata\u001B[49m\u001B[38;5;241;43m.\u001B[39;49m\u001B[43mserialize\u001B[49m\u001B[43m(\u001B[49m\u001B[43m)\u001B[49m\u001B[43m)\u001B[49m\n\u001B[1;32m     81\u001B[0m \u001B[38;5;28;01mreturn\u001B[39;00m response\n",
      "Cell \u001B[0;32mIn[86], line 62\u001B[0m, in \u001B[0;36mFDPClient.post\u001B[0;34m(self, path, params, data)\u001B[0m\n\u001B[1;32m     61\u001B[0m \u001B[38;5;28;01mdef\u001B[39;00m \u001B[38;5;21mpost\u001B[39m(\u001B[38;5;28mself\u001B[39m, path: \u001B[38;5;28mstr\u001B[39m, params: Dict \u001B[38;5;241m=\u001B[39m \u001B[38;5;28;01mNone\u001B[39;00m, data\u001B[38;5;241m=\u001B[39m\u001B[38;5;28;01mNone\u001B[39;00m) \u001B[38;5;241m-\u001B[39m\u001B[38;5;241m>\u001B[39m Response:\n\u001B[0;32m---> 62\u001B[0m     \u001B[38;5;28;01mreturn\u001B[39;00m \u001B[38;5;28;43mself\u001B[39;49m\u001B[38;5;241;43m.\u001B[39;49m\u001B[43m_call_method\u001B[49m\u001B[43m(\u001B[49m\u001B[38;5;124;43m\"\u001B[39;49m\u001B[38;5;124;43mPOST\u001B[39;49m\u001B[38;5;124;43m\"\u001B[39;49m\u001B[43m,\u001B[49m\u001B[43m \u001B[49m\u001B[43mpath\u001B[49m\u001B[43m,\u001B[49m\u001B[43m \u001B[49m\u001B[43mparams\u001B[49m\u001B[38;5;241;43m=\u001B[39;49m\u001B[43mparams\u001B[49m\u001B[43m,\u001B[49m\u001B[43m \u001B[49m\u001B[43mdata\u001B[49m\u001B[38;5;241;43m=\u001B[39;49m\u001B[43mdata\u001B[49m\u001B[43m)\u001B[49m\n",
      "Cell \u001B[0;32mIn[86], line 53\u001B[0m, in \u001B[0;36mFDPClient._call_method\u001B[0;34m(self, method, path, params, data)\u001B[0m\n\u001B[1;32m     52\u001B[0m         logger\u001B[38;5;241m.\u001B[39merror(response\u001B[38;5;241m.\u001B[39mtext)\n\u001B[0;32m---> 53\u001B[0m     \u001B[43msys\u001B[49m\u001B[38;5;241;43m.\u001B[39;49m\u001B[43mexit\u001B[49m\u001B[43m(\u001B[49m\u001B[38;5;241;43m1\u001B[39;49m\u001B[43m)\u001B[49m\n\u001B[1;32m     54\u001B[0m \u001B[38;5;28;01mexcept\u001B[39;00m (requests\u001B[38;5;241m.\u001B[39mexceptions\u001B[38;5;241m.\u001B[39mConnectionError, requests\u001B[38;5;241m.\u001B[39mexceptions\u001B[38;5;241m.\u001B[39mTimeout, requests\u001B[38;5;241m.\u001B[39mexceptions\u001B[38;5;241m.\u001B[39mRequestException) \u001B[38;5;28;01mas\u001B[39;00m e:\n",
      "\u001B[0;31mSystemExit\u001B[0m: 1",
      "\nDuring handling of the above exception, another exception occurred:\n",
      "\u001B[0;31mAttributeError\u001B[0m                            Traceback (most recent call last)",
      "    \u001B[0;31m[... skipping hidden 1 frame]\u001B[0m\n",
      "File \u001B[0;32m~/Github/SeMPyRO/venv/lib/python3.9/site-packages/IPython/core/interactiveshell.py:2121\u001B[0m, in \u001B[0;36mInteractiveShell.showtraceback\u001B[0;34m(self, exc_tuple, filename, tb_offset, exception_only, running_compiled_code)\u001B[0m\n\u001B[1;32m   2118\u001B[0m \u001B[38;5;28;01mif\u001B[39;00m exception_only:\n\u001B[1;32m   2119\u001B[0m     stb \u001B[38;5;241m=\u001B[39m [\u001B[38;5;124m'\u001B[39m\u001B[38;5;124mAn exception has occurred, use \u001B[39m\u001B[38;5;124m%\u001B[39m\u001B[38;5;124mtb to see \u001B[39m\u001B[38;5;124m'\u001B[39m\n\u001B[1;32m   2120\u001B[0m            \u001B[38;5;124m'\u001B[39m\u001B[38;5;124mthe full traceback.\u001B[39m\u001B[38;5;130;01m\\n\u001B[39;00m\u001B[38;5;124m'\u001B[39m]\n\u001B[0;32m-> 2121\u001B[0m     stb\u001B[38;5;241m.\u001B[39mextend(\u001B[38;5;28;43mself\u001B[39;49m\u001B[38;5;241;43m.\u001B[39;49m\u001B[43mInteractiveTB\u001B[49m\u001B[38;5;241;43m.\u001B[39;49m\u001B[43mget_exception_only\u001B[49m\u001B[43m(\u001B[49m\u001B[43metype\u001B[49m\u001B[43m,\u001B[49m\n\u001B[1;32m   2122\u001B[0m \u001B[43m                                                     \u001B[49m\u001B[43mvalue\u001B[49m\u001B[43m)\u001B[49m)\n\u001B[1;32m   2123\u001B[0m \u001B[38;5;28;01melse\u001B[39;00m:\n\u001B[1;32m   2125\u001B[0m     \u001B[38;5;28;01mdef\u001B[39;00m \u001B[38;5;21mcontains_exceptiongroup\u001B[39m(val):\n",
      "File \u001B[0;32m~/Github/SeMPyRO/venv/lib/python3.9/site-packages/IPython/core/ultratb.py:710\u001B[0m, in \u001B[0;36mListTB.get_exception_only\u001B[0;34m(self, etype, value)\u001B[0m\n\u001B[1;32m    702\u001B[0m \u001B[38;5;28;01mdef\u001B[39;00m \u001B[38;5;21mget_exception_only\u001B[39m(\u001B[38;5;28mself\u001B[39m, etype, value):\n\u001B[1;32m    703\u001B[0m \u001B[38;5;250m    \u001B[39m\u001B[38;5;124;03m\"\"\"Only print the exception type and message, without a traceback.\u001B[39;00m\n\u001B[1;32m    704\u001B[0m \n\u001B[1;32m    705\u001B[0m \u001B[38;5;124;03m    Parameters\u001B[39;00m\n\u001B[0;32m   (...)\u001B[0m\n\u001B[1;32m    708\u001B[0m \u001B[38;5;124;03m    value : exception value\u001B[39;00m\n\u001B[1;32m    709\u001B[0m \u001B[38;5;124;03m    \"\"\"\u001B[39;00m\n\u001B[0;32m--> 710\u001B[0m     \u001B[38;5;28;01mreturn\u001B[39;00m \u001B[43mListTB\u001B[49m\u001B[38;5;241;43m.\u001B[39;49m\u001B[43mstructured_traceback\u001B[49m\u001B[43m(\u001B[49m\u001B[38;5;28;43mself\u001B[39;49m\u001B[43m,\u001B[49m\u001B[43m \u001B[49m\u001B[43metype\u001B[49m\u001B[43m,\u001B[49m\u001B[43m \u001B[49m\u001B[43mvalue\u001B[49m\u001B[43m)\u001B[49m\n",
      "File \u001B[0;32m~/Github/SeMPyRO/venv/lib/python3.9/site-packages/IPython/core/ultratb.py:568\u001B[0m, in \u001B[0;36mListTB.structured_traceback\u001B[0;34m(self, etype, evalue, etb, tb_offset, context)\u001B[0m\n\u001B[1;32m    565\u001B[0m     chained_exc_ids\u001B[38;5;241m.\u001B[39madd(\u001B[38;5;28mid\u001B[39m(exception[\u001B[38;5;241m1\u001B[39m]))\n\u001B[1;32m    566\u001B[0m     chained_exceptions_tb_offset \u001B[38;5;241m=\u001B[39m \u001B[38;5;241m0\u001B[39m\n\u001B[1;32m    567\u001B[0m     out_list \u001B[38;5;241m=\u001B[39m (\n\u001B[0;32m--> 568\u001B[0m         \u001B[38;5;28;43mself\u001B[39;49m\u001B[38;5;241;43m.\u001B[39;49m\u001B[43mstructured_traceback\u001B[49m\u001B[43m(\u001B[49m\n\u001B[1;32m    569\u001B[0m \u001B[43m            \u001B[49m\u001B[43metype\u001B[49m\u001B[43m,\u001B[49m\n\u001B[1;32m    570\u001B[0m \u001B[43m            \u001B[49m\u001B[43mevalue\u001B[49m\u001B[43m,\u001B[49m\n\u001B[1;32m    571\u001B[0m \u001B[43m            \u001B[49m\u001B[43m(\u001B[49m\u001B[43metb\u001B[49m\u001B[43m,\u001B[49m\u001B[43m \u001B[49m\u001B[43mchained_exc_ids\u001B[49m\u001B[43m)\u001B[49m\u001B[43m,\u001B[49m\u001B[43m  \u001B[49m\u001B[38;5;66;43;03m# type: ignore\u001B[39;49;00m\n\u001B[1;32m    572\u001B[0m \u001B[43m            \u001B[49m\u001B[43mchained_exceptions_tb_offset\u001B[49m\u001B[43m,\u001B[49m\n\u001B[1;32m    573\u001B[0m \u001B[43m            \u001B[49m\u001B[43mcontext\u001B[49m\u001B[43m,\u001B[49m\n\u001B[1;32m    574\u001B[0m \u001B[43m        \u001B[49m\u001B[43m)\u001B[49m\n\u001B[1;32m    575\u001B[0m         \u001B[38;5;241m+\u001B[39m chained_exception_message\n\u001B[1;32m    576\u001B[0m         \u001B[38;5;241m+\u001B[39m out_list)\n\u001B[1;32m    578\u001B[0m \u001B[38;5;28;01mreturn\u001B[39;00m out_list\n",
      "File \u001B[0;32m~/Github/SeMPyRO/venv/lib/python3.9/site-packages/IPython/core/ultratb.py:1435\u001B[0m, in \u001B[0;36mAutoFormattedTB.structured_traceback\u001B[0;34m(self, etype, evalue, etb, tb_offset, number_of_lines_of_context)\u001B[0m\n\u001B[1;32m   1433\u001B[0m \u001B[38;5;28;01melse\u001B[39;00m:\n\u001B[1;32m   1434\u001B[0m     \u001B[38;5;28mself\u001B[39m\u001B[38;5;241m.\u001B[39mtb \u001B[38;5;241m=\u001B[39m etb\n\u001B[0;32m-> 1435\u001B[0m \u001B[38;5;28;01mreturn\u001B[39;00m \u001B[43mFormattedTB\u001B[49m\u001B[38;5;241;43m.\u001B[39;49m\u001B[43mstructured_traceback\u001B[49m\u001B[43m(\u001B[49m\n\u001B[1;32m   1436\u001B[0m \u001B[43m    \u001B[49m\u001B[38;5;28;43mself\u001B[39;49m\u001B[43m,\u001B[49m\u001B[43m \u001B[49m\u001B[43metype\u001B[49m\u001B[43m,\u001B[49m\u001B[43m \u001B[49m\u001B[43mevalue\u001B[49m\u001B[43m,\u001B[49m\u001B[43m \u001B[49m\u001B[43metb\u001B[49m\u001B[43m,\u001B[49m\u001B[43m \u001B[49m\u001B[43mtb_offset\u001B[49m\u001B[43m,\u001B[49m\u001B[43m \u001B[49m\u001B[43mnumber_of_lines_of_context\u001B[49m\n\u001B[1;32m   1437\u001B[0m \u001B[43m\u001B[49m\u001B[43m)\u001B[49m\n",
      "File \u001B[0;32m~/Github/SeMPyRO/venv/lib/python3.9/site-packages/IPython/core/ultratb.py:1326\u001B[0m, in \u001B[0;36mFormattedTB.structured_traceback\u001B[0;34m(self, etype, value, tb, tb_offset, number_of_lines_of_context)\u001B[0m\n\u001B[1;32m   1323\u001B[0m mode \u001B[38;5;241m=\u001B[39m \u001B[38;5;28mself\u001B[39m\u001B[38;5;241m.\u001B[39mmode\n\u001B[1;32m   1324\u001B[0m \u001B[38;5;28;01mif\u001B[39;00m mode \u001B[38;5;129;01min\u001B[39;00m \u001B[38;5;28mself\u001B[39m\u001B[38;5;241m.\u001B[39mverbose_modes:\n\u001B[1;32m   1325\u001B[0m     \u001B[38;5;66;03m# Verbose modes need a full traceback\u001B[39;00m\n\u001B[0;32m-> 1326\u001B[0m     \u001B[38;5;28;01mreturn\u001B[39;00m \u001B[43mVerboseTB\u001B[49m\u001B[38;5;241;43m.\u001B[39;49m\u001B[43mstructured_traceback\u001B[49m\u001B[43m(\u001B[49m\n\u001B[1;32m   1327\u001B[0m \u001B[43m        \u001B[49m\u001B[38;5;28;43mself\u001B[39;49m\u001B[43m,\u001B[49m\u001B[43m \u001B[49m\u001B[43metype\u001B[49m\u001B[43m,\u001B[49m\u001B[43m \u001B[49m\u001B[43mvalue\u001B[49m\u001B[43m,\u001B[49m\u001B[43m \u001B[49m\u001B[43mtb\u001B[49m\u001B[43m,\u001B[49m\u001B[43m \u001B[49m\u001B[43mtb_offset\u001B[49m\u001B[43m,\u001B[49m\u001B[43m \u001B[49m\u001B[43mnumber_of_lines_of_context\u001B[49m\n\u001B[1;32m   1328\u001B[0m \u001B[43m    \u001B[49m\u001B[43m)\u001B[49m\n\u001B[1;32m   1329\u001B[0m \u001B[38;5;28;01melif\u001B[39;00m mode \u001B[38;5;241m==\u001B[39m \u001B[38;5;124m'\u001B[39m\u001B[38;5;124mMinimal\u001B[39m\u001B[38;5;124m'\u001B[39m:\n\u001B[1;32m   1330\u001B[0m     \u001B[38;5;28;01mreturn\u001B[39;00m ListTB\u001B[38;5;241m.\u001B[39mget_exception_only(\u001B[38;5;28mself\u001B[39m, etype, value)\n",
      "File \u001B[0;32m~/Github/SeMPyRO/venv/lib/python3.9/site-packages/IPython/core/ultratb.py:1173\u001B[0m, in \u001B[0;36mVerboseTB.structured_traceback\u001B[0;34m(self, etype, evalue, etb, tb_offset, number_of_lines_of_context)\u001B[0m\n\u001B[1;32m   1164\u001B[0m \u001B[38;5;28;01mdef\u001B[39;00m \u001B[38;5;21mstructured_traceback\u001B[39m(\n\u001B[1;32m   1165\u001B[0m     \u001B[38;5;28mself\u001B[39m,\n\u001B[1;32m   1166\u001B[0m     etype: \u001B[38;5;28mtype\u001B[39m,\n\u001B[0;32m   (...)\u001B[0m\n\u001B[1;32m   1170\u001B[0m     number_of_lines_of_context: \u001B[38;5;28mint\u001B[39m \u001B[38;5;241m=\u001B[39m \u001B[38;5;241m5\u001B[39m,\n\u001B[1;32m   1171\u001B[0m ):\n\u001B[1;32m   1172\u001B[0m \u001B[38;5;250m    \u001B[39m\u001B[38;5;124;03m\"\"\"Return a nice text document describing the traceback.\"\"\"\u001B[39;00m\n\u001B[0;32m-> 1173\u001B[0m     formatted_exception \u001B[38;5;241m=\u001B[39m \u001B[38;5;28;43mself\u001B[39;49m\u001B[38;5;241;43m.\u001B[39;49m\u001B[43mformat_exception_as_a_whole\u001B[49m\u001B[43m(\u001B[49m\u001B[43metype\u001B[49m\u001B[43m,\u001B[49m\u001B[43m \u001B[49m\u001B[43mevalue\u001B[49m\u001B[43m,\u001B[49m\u001B[43m \u001B[49m\u001B[43metb\u001B[49m\u001B[43m,\u001B[49m\u001B[43m \u001B[49m\u001B[43mnumber_of_lines_of_context\u001B[49m\u001B[43m,\u001B[49m\n\u001B[1;32m   1174\u001B[0m \u001B[43m                                                           \u001B[49m\u001B[43mtb_offset\u001B[49m\u001B[43m)\u001B[49m\n\u001B[1;32m   1176\u001B[0m     colors \u001B[38;5;241m=\u001B[39m \u001B[38;5;28mself\u001B[39m\u001B[38;5;241m.\u001B[39mColors  \u001B[38;5;66;03m# just a shorthand + quicker name lookup\u001B[39;00m\n\u001B[1;32m   1177\u001B[0m     colorsnormal \u001B[38;5;241m=\u001B[39m colors\u001B[38;5;241m.\u001B[39mNormal  \u001B[38;5;66;03m# used a lot\u001B[39;00m\n",
      "File \u001B[0;32m~/Github/SeMPyRO/venv/lib/python3.9/site-packages/IPython/core/ultratb.py:1063\u001B[0m, in \u001B[0;36mVerboseTB.format_exception_as_a_whole\u001B[0;34m(self, etype, evalue, etb, number_of_lines_of_context, tb_offset)\u001B[0m\n\u001B[1;32m   1060\u001B[0m \u001B[38;5;28;01massert\u001B[39;00m \u001B[38;5;28misinstance\u001B[39m(tb_offset, \u001B[38;5;28mint\u001B[39m)\n\u001B[1;32m   1061\u001B[0m head \u001B[38;5;241m=\u001B[39m \u001B[38;5;28mself\u001B[39m\u001B[38;5;241m.\u001B[39mprepare_header(\u001B[38;5;28mstr\u001B[39m(etype), \u001B[38;5;28mself\u001B[39m\u001B[38;5;241m.\u001B[39mlong_header)\n\u001B[1;32m   1062\u001B[0m records \u001B[38;5;241m=\u001B[39m (\n\u001B[0;32m-> 1063\u001B[0m     \u001B[38;5;28;43mself\u001B[39;49m\u001B[38;5;241;43m.\u001B[39;49m\u001B[43mget_records\u001B[49m\u001B[43m(\u001B[49m\u001B[43metb\u001B[49m\u001B[43m,\u001B[49m\u001B[43m \u001B[49m\u001B[43mnumber_of_lines_of_context\u001B[49m\u001B[43m,\u001B[49m\u001B[43m \u001B[49m\u001B[43mtb_offset\u001B[49m\u001B[43m)\u001B[49m \u001B[38;5;28;01mif\u001B[39;00m etb \u001B[38;5;28;01melse\u001B[39;00m []\n\u001B[1;32m   1064\u001B[0m )\n\u001B[1;32m   1066\u001B[0m frames \u001B[38;5;241m=\u001B[39m []\n\u001B[1;32m   1067\u001B[0m skipped \u001B[38;5;241m=\u001B[39m \u001B[38;5;241m0\u001B[39m\n",
      "File \u001B[0;32m~/Github/SeMPyRO/venv/lib/python3.9/site-packages/IPython/core/ultratb.py:1131\u001B[0m, in \u001B[0;36mVerboseTB.get_records\u001B[0;34m(self, etb, number_of_lines_of_context, tb_offset)\u001B[0m\n\u001B[1;32m   1129\u001B[0m \u001B[38;5;28;01mwhile\u001B[39;00m cf \u001B[38;5;129;01mis\u001B[39;00m \u001B[38;5;129;01mnot\u001B[39;00m \u001B[38;5;28;01mNone\u001B[39;00m:\n\u001B[1;32m   1130\u001B[0m     \u001B[38;5;28;01mtry\u001B[39;00m:\n\u001B[0;32m-> 1131\u001B[0m         mod \u001B[38;5;241m=\u001B[39m inspect\u001B[38;5;241m.\u001B[39mgetmodule(\u001B[43mcf\u001B[49m\u001B[38;5;241;43m.\u001B[39;49m\u001B[43mtb_frame\u001B[49m)\n\u001B[1;32m   1132\u001B[0m         \u001B[38;5;28;01mif\u001B[39;00m mod \u001B[38;5;129;01mis\u001B[39;00m \u001B[38;5;129;01mnot\u001B[39;00m \u001B[38;5;28;01mNone\u001B[39;00m:\n\u001B[1;32m   1133\u001B[0m             mod_name \u001B[38;5;241m=\u001B[39m mod\u001B[38;5;241m.\u001B[39m\u001B[38;5;18m__name__\u001B[39m\n",
      "\u001B[0;31mAttributeError\u001B[0m: 'tuple' object has no attribute 'tb_frame'"
     ]
    }
   ],
   "execution_count": 92
  },
  {
   "cell_type": "markdown",
   "id": "b950ac5d-82fd-48bd-8fa8-68881a8dd75a",
   "metadata": {},
   "source": "Now we can check the catalogue and the dataset in FDP. The next step is adding a distribution. Let's create a distribution for the dataset:"
  },
  {
   "cell_type": "code",
   "id": "6391c276-214d-4c36-bf22-62b136627aab",
   "metadata": {},
   "source": [
    "from sempyro.hri_dcat import HRIDistribution\n",
    "\n",
    "hri_distribution = HRIDistribution(\n",
    "    title=[LiteralField(value=\"CSV-distribution of the questionnaire data of the Personalised RISk-based MAmmascreening Study (PRISMA)\")],\n",
    "    description=[LiteralField(value=\"CSV file containing the questionnaire data of the PRISMA study\")],\n",
    "    access_url=[URIRef(\"https://example.com/dataset/PRISMA/questionnaire.csv\")],\n",
    "    media_type=URIRef(\"https://www.iana.org/assignments/media-types/text/csv\")\n",
    ")"
   ],
   "outputs": [],
   "execution_count": null
  },
  {
   "cell_type": "markdown",
   "id": "e0a222b9-b0d3-42b3-a619-78c720025d39",
   "metadata": {},
   "source": "The identifier of the distribution should be unique in the context of the dataset. Access URL is mandatory. Let's add the distribution to the dataset and publish it:"
  },
  {
   "cell_type": "code",
   "id": "9cf6315c-fce0-4f00-b430-586f167eebfd",
   "metadata": {},
   "source": [
    "access_url_str = str(hri_distribution.access_url[0])\n",
    "distribution_uri = URIRef(f\"{EX}/distribution/{access_url_str.split('/')[-1]}\")\n",
    "fdp_distribution_record = hri_distribution.to_graph(subject=distribution_uri)\n",
    "fdp_distribution_record.add((distribution_uri, DCTERMS.isPartOf, URIRef(dataset_fdp_id)))\n",
    "distribution_fdp_id = fdp_client.create_and_publish(resource_type=\"distribution\", metadata=fdp_distribution_record)\n"
   ],
   "outputs": [],
   "execution_count": null
  },
  {
   "metadata": {},
   "cell_type": "markdown",
   "source": "Now we can check the catalogue, dataset and distribution in FDP.",
   "id": "f3192f29fc6f1fc6"
  }
 ],
 "metadata": {
  "kernelspec": {
   "display_name": "Python 3 (ipykernel)",
   "language": "python",
   "name": "python3"
  },
  "language_info": {
   "codemirror_mode": {
    "name": "ipython",
    "version": 3
   },
   "file_extension": ".py",
   "mimetype": "text/x-python",
   "name": "python",
   "nbconvert_exporter": "python",
   "pygments_lexer": "ipython3",
   "version": "3.11.3"
  }
 },
 "nbformat": 4,
 "nbformat_minor": 5
}
