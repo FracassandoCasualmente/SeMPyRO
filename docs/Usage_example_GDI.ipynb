{
 "cells": [
  {
   "cell_type": "markdown",
   "metadata": {},
   "source": [
    "# GDI Example dataset"
   ]
  },
  {
   "cell_type": "markdown",
   "metadata": {},
   "source": [
    "The GDI project has its own specific metadata based on DCAT and HealthDCAT-AP.\n",
    "Here is an example using the following six fields:\n",
    "\n",
    "1. Dataset Title\n",
    "2. Dataset Description\n",
    "3. Number of participants\n",
    "4. Relevant phenotypes (covid status, sex, age?, smoking status?)\n",
    "5. DUO Codes?\n",
    "6. Ancestry / Population?\n",
    "\n",
    "The first two are part of the Dublin core terms, the third is defined by HealthDCAT-AP."
   ]
  },
  {
   "cell_type": "markdown",
   "metadata": {},
   "source": [
    "Let's first import some stuff and define the HealthDCAT-AP namespace.\n",
    "\n",
    "⚠️ The HealthDCAT-AP namespace is not defined yet, so we use a placeholder"
   ]
  },
  {
   "cell_type": "code",
   "execution_count": null,
   "metadata": {},
   "outputs": [],
   "source": [
    "from typing import List, Union\n",
    "from pydantic import Field\n",
    "from rdflib.namespace import DefinedNamespace\n",
    "from rdflib import DCAT, XSD, Namespace, URIRef\n",
    "from sempyro.dcat import DCATDataset\n",
    "from sempyro.rdf_model import LiteralField\n",
    "\n",
    "# Define HealthDCAT-AP namespace with some properties\n",
    "class HEALTHDCAT(DefinedNamespace):\n",
    "    noParticipants: int\n",
    "    populationCoverage : List[LiteralField]\n",
    "\n",
    "    # FIXME: This is a placeholder until official HealthDCAT-AP namespace is defined\n",
    "    _NS = Namespace(\"http://example.com/ns/healthdcat#\")\n",
    "\n"
   ]
  },
  {
   "cell_type": "markdown",
   "metadata": {},
   "source": [
    "Second, we define a Dataset class for GDI MS8. This is based on the DCAT-AP dataset class, but with\n",
    "a few additional properties we borrow from HealthDCAT-AP. In this case, we define the number of\n",
    "participants as a mandatory property, and the population coverage description as an optional one."
   ]
  },
  {
   "cell_type": "code",
   "execution_count": null,
   "metadata": {},
   "outputs": [],
   "source": [
    "class GDIDataset(DCATDataset):\n",
    "    no_participants: int = Field(\n",
    "        description=\"Number of participants in study\",\n",
    "        rdf_term=HEALTHDCAT.noParticipants,\n",
    "        rdf_type=\"xsd:nonNegativeInteger\",\n",
    "    )\n",
    "    population_coverage: List[Union[str, LiteralField]] = Field(\n",
    "        default=None,\n",
    "        description=\"A definition of the population within the dataset\",\n",
    "        rdf_term=HEALTHDCAT.populationCoverage,\n",
    "        rdf_type=\"rdfs_literal\",\n",
    "    )"
   ]
  },
  {
   "cell_type": "markdown",
   "metadata": {},
   "source": [
    "Now we are ready to define the dataset. We can do that as a Python dictionary.\n",
    "\n",
    "⚠️ As DCAT supports multilingual, Literals must usually be defined as a list. Using the\n",
    "`LiteralField` class, you can define a language for each string."
   ]
  },
  {
   "cell_type": "code",
   "execution_count": null,
   "metadata": {},
   "outputs": [],
   "source": [
    "dataset_definition = {\n",
    "    'title': [\"GDI MS8 dataset\"],\n",
    "    'description': [\"This is an example dataset for GDI MS8.\"],\n",
    "    'no_participants': 5,\n",
    "    'population_coverage': [\"This test dataset covers no real population.\"],\n",
    "}\n"
   ]
  },
  {
   "cell_type": "markdown",
   "metadata": {},
   "source": [
    "Finally, we instantiate the dataset class and print the serialization."
   ]
  },
  {
   "cell_type": "code",
   "execution_count": null,
   "metadata": {},
   "outputs": [],
   "source": [
    "example = GDIDataset(**dataset_definition)\n",
    "example_graph = example.to_graph(URIRef(\"http://example.com/dataset\"))\n",
    "example_graph.bind(\"healthdcat\", HEALTHDCAT)\n",
    "print(example_graph.serialize(format=\"turtle\"))"
   ]
  },
  {
   "cell_type": "code",
   "execution_count": null,
   "metadata": {},
   "outputs": [],
   "source": []
  }
 ],
 "metadata": {
  "kernelspec": {
   "display_name": "shacl",
   "language": "python",
   "name": "python3"
  },
  "language_info": {
   "codemirror_mode": {
    "name": "ipython",
    "version": 3
   },
   "file_extension": ".py",
   "mimetype": "text/x-python",
   "name": "python",
   "nbconvert_exporter": "python",
   "pygments_lexer": "ipython3"
  }
 },
 "nbformat": 4,
 "nbformat_minor": 2
}
