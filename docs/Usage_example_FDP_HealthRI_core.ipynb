{
 "cells": [
  {
   "cell_type": "markdown",
   "id": "8ef630c0-1c7b-4aea-b674-0772d5085aec",
   "metadata": {},
   "source": [
    "# Preparing and uploading data to Fair Data Point (FDP) compliant with the Health-RI core shapes using SeMPyRO"
   ]
  },
  {
   "cell_type": "markdown",
   "id": "8bff32b5-6f5c-4c6b-953b-e8f9a8ddd681",
   "metadata": {},
   "source": [
    "**Prerequirements:** To execute this notebook in full one needs to have a running FAIR Data Point (FDP) instance with an active write access account.\n",
    "\n",
    "I used [sample](https://github.com/Health-RI/health-ri-metadata) data as a reference for the Health-RI core shapes. The shapes are available at the repo: [shapes](https://github.com/Health-RI/health-ri-metadata/tree/develop/Formalisation(shacl)/Core/PiecesShape). And the FDP instance I used is https://fdp-test.health-ri.nl. The sample data is also available in metadata repository\n",
    "\n",
    "FDP requires each dataset to be a part of a catalogue, therefore we need to create a catalogue. Let's see what we need to provide for that:"
   ]
  },
  {
   "cell_type": "code",
   "execution_count": 1,
   "id": "cff57267-1900-4b21-a8c5-fd5e16c61342",
   "metadata": {
    "ExecuteTime": {
     "end_time": "2024-09-17T11:19:10.599877Z",
     "start_time": "2024-09-17T11:19:10.597603Z"
    }
   },
   "outputs": [
    {
     "name": "stdout",
     "output_type": "stream",
     "text": [
      "['description', 'publisher', 'title']\n"
     ]
    },
    {
     "name": "stderr",
     "output_type": "stream",
     "text": [
      "/Users/hcvanderwerf/Library/Application Support/hatch/env/virtual/sempyro/Q415hUCa/docs/lib/python3.12/site-packages/pydantic/_internal/_generate_schema.py:355: UserWarning: [typing.Annotated[pydantic_core._pydantic_core.Url, UrlConstraints(max_length=None, allowed_schemes=['http', 'https'], host_required=None, default_host=None, default_port=None, default_path=None)]] is not a Python type (it may be an instance of an object), Pydantic will allow any object with no validation since we cannot even enforce that the input is an instance of the given type. To get rid of this error wrap the type with `pydantic.SkipValidation`.\n",
      "  warn(\n"
     ]
    }
   ],
   "source": [
    "from sempyro.hri_dcat import HRICatalog\n",
    "\n",
    "catalog_fields = HRICatalog.annotate_model()\n",
    "print(catalog_fields.mandatory_fields())"
   ]
  },
  {
   "cell_type": "markdown",
   "id": "b9c8b731-d5b8-43aa-9a93-6c4781f51393",
   "metadata": {},
   "source": [
    "Let's create a minimum catalogue with an example title and description. We also need a URI to use as a graph subject at serialization. A FDP requirement is a link pointing to a parent object, in the case of a catalogue it is FDP itself and it should be a property `is_part_of` in the range `DCTERMS.isPartOf`. More about this in the other example Usage_example_FDP.ipynb. We used the reusable code from this example.  Let's use `example.com` domain for now for this purpose:"
   ]
  },
  {
   "cell_type": "code",
   "execution_count": 4,
   "id": "af6617c9-edef-4b28-a3f5-c36cec1dfa33",
   "metadata": {
    "ExecuteTime": {
     "end_time": "2024-09-17T11:19:19.711834Z",
     "start_time": "2024-09-17T11:19:12.388259Z"
    }
   },
   "outputs": [
    {
     "name": "stdin",
     "output_type": "stream",
     "text": [
      "Enter base link to FDP:  https://fdp-test.healthdata.nl\n"
     ]
    },
    {
     "name": "stdout",
     "output_type": "stream",
     "text": [
      "@prefix dcat: <http://www.w3.org/ns/dcat#> .\n",
      "@prefix dcterms: <http://purl.org/dc/terms/> .\n",
      "@prefix foaf: <http://xmlns.com/foaf/0.1/> .\n",
      "\n",
      "<https://example.com/test_catalog_1> a dcat:Catalog ;\n",
      "    dcterms:description \"This catalogue describes the core metadata of AUMC Inflammatory Bowel Disease datasets\"@en ;\n",
      "    dcterms:isPartOf <https://fdp-test.healthdata.nl> ;\n",
      "    dcterms:publisher [ a foaf:Agent ;\n",
      "            dcterms:identifier \"https://ror.org/05wg1m734\" ;\n",
      "            foaf:name \"Academic Medical Center\" ] ;\n",
      "    dcterms:title \"Inflammatory Bowel Disease catalogue\"@en .\n",
      "\n",
      "\n"
     ]
    }
   ],
   "source": [
    "from sempyro import LiteralField\n",
    "from sempyro.foaf import Agent\n",
    "from sempyro.hri_dcat import HRICatalog\n",
    "from rdflib import URIRef, DCTERMS\n",
    "from pydantic import AnyHttpUrl, Field\n",
    "\n",
    "EX = \"https://example.com\"\n",
    "fdp_base=input(\"Enter base link to FDP: \").rstrip(\"/\")\n",
    "\n",
    "class FDPCatalog(HRICatalog):\n",
    "    is_part_of: [AnyHttpUrl] = Field(description=\"Link to parent object\",\n",
    "                                   rdf_term=DCTERMS.isPartOf,\n",
    "                                   rdf_type=\"uri\"\n",
    "                                  )\n",
    "\n",
    "# Create a class instance with the same data\n",
    "fdp_catalog = FDPCatalog(\n",
    "    title=[LiteralField(value=\"Inflammatory Bowel Disease catalogue\", language=\"en\")],\n",
    "    description=[LiteralField(value=\"This catalogue describes the core metadata of AUMC Inflammatory Bowel Disease datasets\", language=\"en\")],\n",
    "    publisher=[Agent(\n",
    "                                 name=[\n",
    "                                     LiteralField(value=\"Academic Medical Center\")],\n",
    "                                 identifier=\"https://ror.org/05wg1m734\")],\n",
    "    is_part_of=[fdp_base],\n",
    "    dataset=[]\n",
    "                        )\n",
    "\n",
    "fdp_catalog_record = fdp_catalog.to_graph(URIRef(f\"{EX}/test_catalog_1\"))\n",
    "print(fdp_catalog_record.serialize())\n",
    "\n",
    "\n"
   ]
  },
  {
   "cell_type": "markdown",
   "id": "0f415bd0-a9a6-496e-a011-38d5d8cbeb4e",
   "metadata": {},
   "source": [
    "Publishing a record in FDP consists of two steps: creating a record and publishing. These two actions are performed as API calls with different content types, so we need to implement methods for changing content type, creating a record and publishing the record. After that, the client looks like this:"
   ]
  },
  {
   "cell_type": "code",
   "execution_count": 5,
   "id": "645f50e3-63c0-460a-aece-64a112c30f64",
   "metadata": {
    "ExecuteTime": {
     "end_time": "2024-09-17T11:19:28.742201Z",
     "start_time": "2024-09-17T11:19:28.739644Z"
    }
   },
   "outputs": [],
   "source": "username=input(\"Enter username: \")"
  },
  {
   "cell_type": "code",
   "execution_count": 6,
   "id": "39cceb04-1120-432e-81f3-135424c7ac63",
   "metadata": {
    "ExecuteTime": {
     "end_time": "2024-09-17T11:19:29.404184Z",
     "start_time": "2024-09-17T11:19:29.401855Z"
    }
   },
   "outputs": [],
   "source": [
    "from getpass import getpass\n",
    "password = getpass()"
   ]
  },
  {
   "cell_type": "markdown",
   "id": "265aa53e-0698-4e06-9788-95f864f7c9da",
   "metadata": {},
   "source": [
    "Now we can create a client instance and publish the catalogue record to FDP:"
   ]
  },
  {
   "cell_type": "code",
   "execution_count": 7,
   "id": "c4861c8a-0c81-470d-a1b7-b65c56c5c410",
   "metadata": {
    "ExecuteTime": {
     "end_time": "2024-09-17T11:19:43.346924Z",
     "start_time": "2024-09-17T11:19:31.541177Z"
    }
   },
   "outputs": [
    {
     "name": "stdout",
     "output_type": "stream",
     "text": [
      "ce1f248d-3a72-41c5-a7a0-a3cd0a7d2eac\n"
     ]
    }
   ],
   "source": [
    "from fdpAPIconnector.fdpclient import FDPClient\n",
    "\n",
    "fdp_client = FDPClient(baseurl=fdp_base, email=username, password=password)\n",
    "\n",
    "catalog_fdp_id = fdp_client.create(type=\"catalog\", data=fdp_catalog_record)\n",
    "fdp_client.update(\n",
    "    type=\"catalog\", subtype=\"meta/state\", id=catalog_fdp_id, data='{\"current\": \"PUBLISHED\"}', format=\"json-ld\"\n",
    ")\n",
    "print(catalog_fdp_id)"
   ]
  },
  {
   "cell_type": "markdown",
   "id": "57120302-f30d-4ab5-9172-385cf66bb7e2",
   "metadata": {},
   "source": [
    "Now we need to add datasets to the catalogue. Data for example datasets will be used from [sample](https://github.com/Health-RI/health-ri-metadata) "
   ]
  },
  {
   "cell_type": "code",
   "execution_count": 8,
   "id": "8e39cbff-73f6-4cf0-bba1-a49066822324",
   "metadata": {
    "ExecuteTime": {
     "end_time": "2024-09-17T11:19:51.989690Z",
     "start_time": "2024-09-17T11:19:51.984903Z"
    }
   },
   "outputs": [],
   "source": [
    "from sempyro.hri_dcat import HRIDataset\n",
    "from sempyro.vcard import VCard\n",
    "import dateutil.parser as parser\n",
    "\n",
    "hri_dataset = HRIDataset(\n",
    "    contact_point=[\n",
    "        VCard(hasEmail=[URIRef(\"mailto:data-access-committee@xumc.nl\")],\n",
    "              full_name=[\"Data Access Committee of the x UMC\"], hasUID=\"https://ror.org/05wg1m734\")\n",
    "    ],\n",
    "    creator=[Agent(name=[\"Academic Medical Center\"], identifier=\"https://ror.org/05wg1m734\")],\n",
    "    description=[LiteralField(value=\n",
    "                              \"The primary aim of the PRISMA study was to investigate the potential value of risk-tailored versus \"\n",
    "                              \"traditional breast cancer screening protocols in the Netherlands. Data collection took place between \"\n",
    "                              \"2014-2019, resulting in ∼67,000 mammograms, ∼38,000 surveys, ∼10,000 blood samples and ∼600 saliva \"\n",
    "                              \"samples.\")],\n",
    "    issued=parser.isoparse(\"2024-07-01T11:11:11\"),\n",
    "    identifier=f\"{EX}/dataset/ZLOYOJ\",\n",
    "    modified=parser.isoparse(\"2024-06-04T13:36:10.246Z\"),\n",
    "    publisher=[\n",
    "        Agent(name=[\"Radboud University Medical Center\"], identifier=\"https://ror.org/05wg1m734\")],\n",
    "    theme=[URIRef(\"http://publications.europa.eu/resource/authority/data-theme/HEAL\")],\n",
    "    title=[LiteralField(value=\"Questionnaire data of the Personalised RISk-based MAmmascreening Study (PRISMA)\")],\n",
    "    license=URIRef(\"https://creativecommons.org/licenses/by-sa/4.0/\"),\n",
    "    distribution=[]\n",
    ")"
   ]
  },
  {
   "cell_type": "markdown",
   "id": "9693bfda-34f0-4f1b-bc5f-b37a86b9bdb9",
   "metadata": {},
   "source": "Make sure the dataset is correctly serialized link it to the catalogue and publish it:"
  },
  {
   "cell_type": "code",
   "execution_count": 10,
   "id": "30d8dff4f3bdd78",
   "metadata": {
    "ExecuteTime": {
     "end_time": "2024-09-17T11:19:58.241392Z",
     "start_time": "2024-09-17T11:19:58.053532Z"
    }
   },
   "outputs": [
    {
     "name": "stderr",
     "output_type": "stream",
     "text": [
      "DEBUG:fdpAPIconnector.fdpclient:Create metadata on https://fdp-test.healthdata.nl/dataset with the content: \n",
      "[a rdfg:Graph;rdflib:storage [a rdflib:Store;rdfs:label 'Memory']].\n",
      "DEBUG:urllib3.connectionpool:Starting new HTTPS connection (1): fdp-test.healthdata.nl:443\n",
      "DEBUG:urllib3.connectionpool:https://fdp-test.healthdata.nl:443 \"POST /dataset HTTP/11\" 201 None\n",
      "DEBUG:fdpAPIconnector.fdpclient:Update metadata on https://fdp-test.healthdata.nl/dataset/ad4638e8-94f1-4a11-8040-739b89ff41e7/meta/state with the content: \n",
      "{\"current\": \"PUBLISHED\"}\n",
      "DEBUG:urllib3.connectionpool:Starting new HTTPS connection (1): fdp-test.healthdata.nl:443\n",
      "DEBUG:urllib3.connectionpool:https://fdp-test.healthdata.nl:443 \"PUT /dataset/ad4638e8-94f1-4a11-8040-739b89ff41e7/meta/state HTTP/11\" 200 None\n"
     ]
    },
    {
     "name": "stdout",
     "output_type": "stream",
     "text": [
      "ad4638e8-94f1-4a11-8040-739b89ff41e7\n"
     ]
    }
   ],
   "source": [
    "fdp_dataset_record = hri_dataset.to_graph(subject=URIRef(hri_dataset.identifier))\n",
    "fdp_dataset_record.add((URIRef(hri_dataset.identifier), DCTERMS.isPartOf, URIRef(f\"{fdp_base}/catalog/{catalog_fdp_id}\")))\n",
    "dataset_fdp_id = fdp_client.create(type=\"dataset\", data=fdp_dataset_record)\n",
    "fdp_client.update(\n",
    "        type=\"dataset\", subtype=\"meta/state\", id=dataset_fdp_id, data='{\"current\": \"PUBLISHED\"}', format=\"json-ld\"\n",
    "    )\n",
    "\n",
    "print(dataset_fdp_id)"
   ]
  },
  {
   "cell_type": "markdown",
   "id": "b950ac5d-82fd-48bd-8fa8-68881a8dd75a",
   "metadata": {},
   "source": [
    "Now we can check the catalogue and the dataset in FDP. The next step is adding a distribution. Let's create a distribution for the dataset:"
   ]
  },
  {
   "cell_type": "code",
   "execution_count": 11,
   "id": "6391c276-214d-4c36-bf22-62b136627aab",
   "metadata": {},
   "outputs": [],
   "source": [
    "from sempyro.hri_dcat import HRIDistribution\n",
    "\n",
    "hri_distribution = HRIDistribution(\n",
    "    title=[LiteralField(value=\"CSV-distribution of the questionnaire data of the Personalised RISk-based MAmmascreening Study (PRISMA)\")],\n",
    "    description=[LiteralField(value=\"CSV file containing the questionnaire data of the PRISMA study\")],\n",
    "    access_url=[URIRef(\"https://example.com/dataset/PRISMA/questionnaire.csv\")],\n",
    "    media_type=URIRef(\"https://www.iana.org/assignments/media-types/text/csv\")\n",
    ")"
   ]
  },
  {
   "cell_type": "markdown",
   "id": "e0a222b9-b0d3-42b3-a619-78c720025d39",
   "metadata": {},
   "source": [
    "The identifier of the distribution should be unique in the context of the dataset. Access URL is mandatory. Let's add the distribution to the dataset and publish it:"
   ]
  },
  {
   "cell_type": "code",
   "execution_count": 12,
   "id": "9cf6315c-fce0-4f00-b430-586f167eebfd",
   "metadata": {},
   "outputs": [
    {
     "name": "stderr",
     "output_type": "stream",
     "text": [
      "DEBUG:fdpAPIconnector.fdpclient:Create metadata on https://fdp-test.healthdata.nl/distribution with the content: \n",
      "[a rdfg:Graph;rdflib:storage [a rdflib:Store;rdfs:label 'Memory']].\n",
      "DEBUG:urllib3.connectionpool:Starting new HTTPS connection (1): fdp-test.healthdata.nl:443\n",
      "DEBUG:urllib3.connectionpool:https://fdp-test.healthdata.nl:443 \"POST /distribution HTTP/11\" 201 None\n",
      "DEBUG:fdpAPIconnector.fdpclient:Update metadata on https://fdp-test.healthdata.nl/distribution/ee1c426b-02b9-4892-9bab-6665513e02fe/meta/state with the content: \n",
      "{\"current\": \"PUBLISHED\"}\n",
      "DEBUG:urllib3.connectionpool:Starting new HTTPS connection (1): fdp-test.healthdata.nl:443\n",
      "DEBUG:urllib3.connectionpool:https://fdp-test.healthdata.nl:443 \"PUT /distribution/ee1c426b-02b9-4892-9bab-6665513e02fe/meta/state HTTP/11\" 200 None\n"
     ]
    },
    {
     "name": "stdout",
     "output_type": "stream",
     "text": [
      "ee1c426b-02b9-4892-9bab-6665513e02fe\n"
     ]
    }
   ],
   "source": [
    "access_url_str = str(hri_distribution.access_url[0])\n",
    "distribution_uri = URIRef(f\"{EX}/distribution/{access_url_str.split('/')[-1]}\")\n",
    "fdp_distribution_record = hri_distribution.to_graph(subject=distribution_uri)\n",
    "fdp_distribution_record.add((distribution_uri, DCTERMS.isPartOf, URIRef(f\"{fdp_base}/dataset/{dataset_fdp_id}\")))\n",
    "distribution_fdp_id = fdp_client.create(type=\"distribution\", data=fdp_distribution_record)\n",
    "fdp_client.update(\n",
    "        type=\"distribution\", subtype=\"meta/state\", id=distribution_fdp_id, data='{\"current\": \"PUBLISHED\"}', format=\"json-ld\"\n",
    "    )\n",
    "print(distribution_fdp_id)"
   ]
  },
  {
   "cell_type": "markdown",
   "id": "f3192f29fc6f1fc6",
   "metadata": {},
   "source": [
    "Now we can check the catalogue, dataset and distribution in FDP."
   ]
  }
 ],
 "metadata": {
  "kernelspec": {
   "display_name": "Python 3 (ipykernel)",
   "language": "python",
   "name": "python3"
  },
  "language_info": {
   "codemirror_mode": {
    "name": "ipython",
    "version": 3
   },
   "file_extension": ".py",
   "mimetype": "text/x-python",
   "name": "python",
   "nbconvert_exporter": "python",
   "pygments_lexer": "ipython3",
   "version": "3.12.5"
  }
 },
 "nbformat": 4,
 "nbformat_minor": 5
}
