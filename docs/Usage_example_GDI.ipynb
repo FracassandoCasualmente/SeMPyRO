{
 "cells": [
  {
   "cell_type": "markdown",
   "metadata": {},
   "source": [
    "# GDI Example dataset"
   ]
  },
  {
   "cell_type": "markdown",
   "metadata": {},
   "source": [
    "The GDI project has its own specific metadata based on DCAT and HealthDCAT-AP.\n",
    "Here is an example using the following six fields:\n",
    "\n",
    "1. Dataset Title\n",
    "2. Dataset Description\n",
    "3. Number of participants\n",
    "4. Relevant phenotypes (covid status, sex, age?, smoking status?)\n",
    "5. DUO Codes?\n",
    "6. Ancestry / Population?\n",
    "\n",
    "The first two are part of the Dublin core terms, the third is defined by HealthDCAT-AP."
   ]
  },
  {
   "cell_type": "markdown",
   "metadata": {},
   "source": [
    "Let's first import some stuff and define the HealthDCAT-AP namespace.\n",
    "\n",
    "⚠️ The HealthDCAT-AP namespace is not formally defined yet, so we use a placeholder"
   ]
  },
  {
   "cell_type": "code",
   "execution_count": 2,
   "metadata": {},
   "outputs": [],
   "source": [
    "from typing import List, Union\n",
    "\n",
    "from pydantic import ConfigDict, Field\n",
    "from rdflib import DCAT, DCTERMS, Namespace, URIRef\n",
    "from rdflib.namespace import DefinedNamespace\n",
    "\n",
    "from sempyro.dcat import DCATDataset\n",
    "from sempyro.rdf_model import LiteralField\n",
    "\n",
    "\n",
    "# Define HealthDCAT-AP namespace with some properties\n",
    "class HEALTHDCAT(DefinedNamespace):\n",
    "    minTypicalAge: int\n",
    "    maxTypicalAge: int\n",
    "    numberOfUniqueIndividuals: int\n",
    "    numberOfRecords: int\n",
    "    populationCoverage: List[LiteralField]\n",
    "\n",
    "    # FIXME: This is a placeholder until official HealthDCAT-AP namespace is defined\n",
    "    _NS = Namespace(\"http://example.com/ns/healthdcat#\")"
   ]
  },
  {
   "cell_type": "markdown",
   "metadata": {},
   "source": [
    "Second, we define a Dataset class for GDI MS8. This is based on the DCAT-AP dataset class, but with\n",
    "a few additional properties we borrow from HealthDCAT-AP. In this case, we define the number of\n",
    "participants as a mandatory property, and the population coverage description as an optional one."
   ]
  },
  {
   "cell_type": "code",
   "execution_count": 3,
   "metadata": {},
   "outputs": [],
   "source": [
    "class GDIDataset(DCATDataset):\n",
    "    model_config = ConfigDict(\n",
    "                              json_schema_extra={\n",
    "                                  \"$ontology\": \"https://healthdcat-ap.github.io/\",\n",
    "                                  \"$namespace\": str(HEALTHDCAT),\n",
    "                                  \"$IRI\": DCAT.Dataset,\n",
    "                                  \"$prefix\": \"healthdcatap\"\n",
    "                              }\n",
    "                              )\n",
    "    min_typical_age: int = Field(\n",
    "        description=\" Minimum typical age of the population within the dataset\",\n",
    "        rdf_term=HEALTHDCAT.minTypicalAge,\n",
    "        rdf_type=\"xsd:nonNegativeInteger\",\n",
    "    )\n",
    "    max_typical_age: int = Field(\n",
    "        description=\"Maximum typical age of the population within the dataset\",\n",
    "        rdf_term=HEALTHDCAT.maxTypicalAge,\n",
    "        rdf_type=\"xsd:nonNegativeInteger\",\n",
    "    )\n",
    "    no_unique_individuals: int = Field(\n",
    "        description=\"Number of participants in study\",\n",
    "        rdf_term=HEALTHDCAT.numberOfUniqueIndividuals,\n",
    "        rdf_type=\"xsd:nonNegativeInteger\",\n",
    "    )\n",
    "    no_records: int = Field(\n",
    "        description=\"Size of the dataset in terms of the number of records.\",\n",
    "        rdf_term=HEALTHDCAT.numberOfRecords,\n",
    "        rdf_type=\"xsd:nonNegativeInteger\",\n",
    "    )\n",
    "    population_coverage: List[Union[str, LiteralField]] = Field(\n",
    "        default=None,\n",
    "        description=\"A definition of the population within the dataset\",\n",
    "        rdf_term=HEALTHDCAT.populationCoverage,\n",
    "        rdf_type=\"rdfs_literal\",\n",
    "    )"
   ]
  },
  {
   "cell_type": "markdown",
   "metadata": {},
   "source": [
    "Now we are ready to define the dataset. We can do that as a Python dictionary.\n",
    "\n",
    "⚠️ As DCAT supports multilingual, Literals must usually be defined as a list. Using the\n",
    "`LiteralField` class, you can define a language for each string."
   ]
  },
  {
   "cell_type": "code",
   "execution_count": null,
   "metadata": {},
   "outputs": [],
   "source": [
    "import datetime\n",
    "\n",
    "from sempyro.dcat.dcat_distribution import DCATDistribution\n",
    "from sempyro.foaf.agent import Agent\n",
    "from sempyro.vcard.vcard import VCard\n",
    "\n",
    "dataset_definition = {\n",
    "    \"contact_point\": [VCard(hasEmail=[\"mailto:cto@biodata.pt\"], full_name=[\"BioData.pt Chief Technology Officer\"],\n",
    "                           hasUID=\"https://ror.org/02q7abn51\")],\n",
    "    \"creator\": [Agent(name=[\"BioData.pt\"], identifier=\"https://ror.org/02q7abn51\")],\n",
    "    \"description\": [\"This dataset is being used as part of the GDI Milestone 8, containing VCFs and phenotypic data in CSV format about 41514 samples. The dataset consists only of synthetic data.\"],\n",
    "    \"distribution\": [\"https://fdp.gdi.biodata.pt/gdi/distribution\", ], # TODO MAKE IT THE LIST OF ALL THE DISTRIBUTION URI\n",
    "    \"release_date\": datetime.datetime(2024, 7, 7, 11, 11, 11, tzinfo=datetime.timezone.utc),\n",
    "    \"keyword\": [\"COVID\"],\n",
    "    \"identifier\": [\"GDID-becadf5a-a1b2\"],\n",
    "    \"update_date\": datetime.datetime(2024,11,4,10,20,5, tzinfo=datetime.timezone.utc),\n",
    "    \"publisher\": [Agent(name=[\"BioData.pt\"], identifier=\"https://ror.org/02q7abn51\")],\n",
    "    \"theme\": [URIRef(\"http://publications.europa.eu/resource/authority/data-theme/HEAL\")],\n",
    "    \"title\": [\"PT node COVID-19 GWAS and Allele Frequency Lookup Dataset with Italian population 1\"],\n",
    "    \"license\": URIRef(\"https://creativecommons.org/licenses/by-sa/4.0/\"),\n",
    "    \"no_unique_individuals\": 41514,\n",
    "    \"no_records\": 18382376,\n",
    "    \"population_coverage\": [\"This test dataset covers no real population.\"],\n",
    "    \"min_typical_age\": 18,\n",
    "    \"max_typical_age\": 64,\n",
    "}\n",
    "\n",
    "distribution_definition = {\n",
    "    \"title\": [\"GWAS and Allele Frequency Lookup Data Distribution for GDI MS8\"],\n",
    "    \"description\": [\"VCF file containing GWAS and allele frequency lookup data of synthetic COVID-19.\"\n",
    "    \"cases and controls for GDI MS8 demonstration.\"],\n",
    "    \"access_url\": [\"https://example.com/dataset/GDI-MS8-COVID19.vcf\"],\n",
    "    \"media_type\": \"https://www.iana.org/assignments/media-types/application/vcf\",\n",
    "    # \"identifier\": [\"GDIF-12345678-90ab-defg\"]\n",
    "}\n",
    "\n",
    "dataset_subject = URIRef(\"https://fdp.gdi.biodata.pt/gdi/dataset\")\n",
    "distribution_subject = URIRef(\"https://fdp.gdi.biodata.pt/gdi/distribution\")"
   ]
  },
  {
   "cell_type": "code",
   "execution_count": null,
   "metadata": {},
   "outputs": [],
   "source": [
    "distribution_definition = {\n",
    "    \"title\": [\"GWAS and Allele Frequency Lookup Data Distribution for GDI MS8\"],\n",
    "    \"description\": [\"VCF file containing GWAS and allele frequency lookup data of synthetic COVID-19.\"\n",
    "    \"cases and controls for GDI MS8 demonstration.\"],\n",
    "    \"access_url\": [\"https://example.com/dataset/GDI-MS8-COVID19.vcf\"], # TODO LOCATION ON S&I\n",
    "    \"media_type\": \"https://www.iana.org/assignments/media-types/application/vcf\",\n",
    "    # \"identifier\": [\"GDIF-12345678-90ab-defg\"]\n",
    "}\n",
    "\n",
    "distribution_subject = URIRef(\"https://fdp.gdi.biodata.pt/gdi/distribution/1\") # make it unique, the thing after slash\n"
   ]
  },
  {
   "cell_type": "markdown",
   "metadata": {},
   "source": [
    "Finally, we instantiate the dataset class and print the serialization."
   ]
  },
  {
   "cell_type": "code",
   "execution_count": null,
   "metadata": {},
   "outputs": [],
   "source": [
    "example_dataset = GDIDataset(**dataset_definition)\n",
    "example_dataset_graph = example_dataset.to_graph(URIRef(\"https://fdp.gdi.biodata.pt/gdi/dataset\"))\n",
    "example_distribution = DCATDistribution(**distribution_definition)\n",
    "example_distribution_graph = example_distribution.to_graph(distribution_subject)\n",
    "\n",
    "# Add them up for prettier visualization\n",
    "print((example_dataset_graph + example_distribution_graph).serialize(format=\"turtle\"))"
   ]
  },
  {
   "cell_type": "markdown",
   "metadata": {},
   "source": [
    "Now, we can push the Dataset to a FAIR Data Point. For this, we use the Health-RI developed\n",
    "[FAIRClient](https://github.com/Health-RI/fairclient) library.\n",
    "\n",
    "First, we define a couple of settings. Note: you will need an existing Catalog in the FDP to add\n",
    "the dataset to. If you don't have one, you can easily create them using the web interface."
   ]
  },
  {
   "cell_type": "code",
   "execution_count": null,
   "metadata": {},
   "outputs": [],
   "source": [
    "fdp_parent_catalog = \"https://fdp.gdi.biodata.pt/catalog/88e146bb-0fb9-4f45-ad57-26f928750773\"\n",
    "fdp_baseurl = \"https://fdp.gdi.biodata.pt\"\n",
    "fdp_user = \"albert.einstein@example.com\"\n",
    "with open(\"/home/ubuntu/fdp/passwd.txt\", \"r\") as f:\n",
    "    passwd = f.read().strip()\n",
    "fdp_pass = passwd"
   ]
  },
  {
   "cell_type": "code",
   "execution_count": null,
   "metadata": {},
   "outputs": [],
   "source": [
    "import fairclient.fdpclient\n",
    "\n",
    "# Log in to the FAIR Data Point\n",
    "fdpclient = fairclient.fdpclient.FDPClient(base_url=fdp_baseurl, username=fdp_user, password=fdp_pass)\n",
    "\n",
    "# Add a reference to the parent catalog to make the FDP happy\n",
    "example_dataset_graph.add((dataset_subject, DCTERMS.isPartOf, URIRef(fdp_parent_catalog)))"
   ]
  },
  {
   "cell_type": "code",
   "execution_count": null,
   "metadata": {},
   "outputs": [],
   "source": [
    "new_dataset = fdpclient.create_and_publish(\"dataset\", example_dataset_graph)\n",
    "print(new_dataset)"
   ]
  },
  {
   "cell_type": "markdown",
   "metadata": {},
   "source": [
    "To conclude we can now add the distribution to the dataset. This is done by adding the distribution to the dataset graph and then pushing it to the FDP."
   ]
  },
  {
   "cell_type": "code",
   "execution_count": null,
   "metadata": {},
   "outputs": [],
   "source": [
    "example_distribution_graph.add((distribution_subject, DCTERMS.isPartOf, URIRef(f\"{new_dataset}\"))) # do for each dist\n",
    "distribution_fdp_id = fdpclient.create_and_publish(resource_type=\"distribution\", metadata=example_distribution_graph)\n",
    "\n",
    "print(distribution_fdp_id)"
   ]
  }
 ],
 "metadata": {
  "kernelspec": {
   "display_name": "vcf-venv",
   "language": "python",
   "name": "python3"
  },
  "language_info": {
   "codemirror_mode": {
    "name": "ipython",
    "version": 3
   },
   "file_extension": ".py",
   "mimetype": "text/x-python",
   "name": "python",
   "nbconvert_exporter": "python",
   "pygments_lexer": "ipython3",
   "version": "3.12.3"
  }
 },
 "nbformat": 4,
 "nbformat_minor": 4
}
