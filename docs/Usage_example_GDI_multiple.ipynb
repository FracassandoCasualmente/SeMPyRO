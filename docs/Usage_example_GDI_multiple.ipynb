{
 "cells": [
  {
   "cell_type": "markdown",
   "metadata": {},
   "source": [
    "# GDI Example dataset"
   ]
  },
  {
   "cell_type": "markdown",
   "metadata": {},
   "source": [
    "The GDI project has its own specific metadata based on DCAT and HealthDCAT-AP.\n",
    "Here is an example using the following six fields:\n",
    "\n",
    "1. Dataset Title\n",
    "2. Dataset Description\n",
    "3. Number of participants\n",
    "4. Relevant phenotypes (covid status, sex, age?, smoking status?)\n",
    "5. DUO Codes?\n",
    "6. Ancestry / Population?\n",
    "\n",
    "The first two are part of the Dublin core terms, the third is defined by HealthDCAT-AP."
   ]
  },
  {
   "cell_type": "markdown",
   "metadata": {},
   "source": [
    "Let's first import some stuff and define the HealthDCAT-AP namespace.\n",
    "\n",
    "⚠️ The HealthDCAT-AP namespace is not formally defined yet, so we use a placeholder"
   ]
  },
  {
   "cell_type": "code",
   "execution_count": null,
   "metadata": {},
   "outputs": [],
   "source": [
    "from typing import List, Union\n",
    "\n",
    "from pydantic import ConfigDict, Field\n",
    "from rdflib import DCAT, DCTERMS, Namespace, URIRef\n",
    "from rdflib.namespace import DefinedNamespace\n",
    "\n",
    "from sempyro.dcat import DCATDataset\n",
    "from sempyro.rdf_model import LiteralField\n",
    "\n",
    "\n",
    "# Define HealthDCAT-AP namespace with some properties\n",
    "class HEALTHDCAT(DefinedNamespace):\n",
    "    minTypicalAge: int\n",
    "    maxTypicalAge: int\n",
    "    numberOfUniqueIndividuals: int\n",
    "    numberOfRecords: int\n",
    "    populationCoverage: List[LiteralField]\n",
    "\n",
    "    # FIXME: This is a placeholder until official HealthDCAT-AP namespace is defined\n",
    "    _NS = Namespace(\"http://example.com/ns/healthdcat#\")"
   ]
  },
  {
   "cell_type": "markdown",
   "metadata": {},
   "source": [
    "Second, we define a Dataset class for GDI MS8. This is based on the DCAT-AP dataset class, but with\n",
    "a few additional properties we borrow from HealthDCAT-AP. In this case, we define the number of\n",
    "participants as a mandatory property, and the population coverage description as an optional one."
   ]
  },
  {
   "cell_type": "code",
   "execution_count": 2,
   "metadata": {},
   "outputs": [],
   "source": [
    "class GDIDataset(DCATDataset):\n",
    "    model_config = ConfigDict(\n",
    "                              json_schema_extra={\n",
    "                                  \"$ontology\": \"https://healthdcat-ap.github.io/\",\n",
    "                                  \"$namespace\": str(HEALTHDCAT),\n",
    "                                  \"$IRI\": DCAT.Dataset,\n",
    "                                  \"$prefix\": \"healthdcatap\"\n",
    "                              }\n",
    "                              )\n",
    "    min_typical_age: int = Field(\n",
    "        description=\" Minimum typical age of the population within the dataset\",\n",
    "        rdf_term=HEALTHDCAT.minTypicalAge,\n",
    "        rdf_type=\"xsd:nonNegativeInteger\",\n",
    "    )\n",
    "    max_typical_age: int = Field(\n",
    "        description=\"Maximum typical age of the population within the dataset\",\n",
    "        rdf_term=HEALTHDCAT.maxTypicalAge,\n",
    "        rdf_type=\"xsd:nonNegativeInteger\",\n",
    "    )\n",
    "    no_unique_individuals: int = Field(\n",
    "        description=\"Number of participants in study\",\n",
    "        rdf_term=HEALTHDCAT.numberOfUniqueIndividuals,\n",
    "        rdf_type=\"xsd:nonNegativeInteger\",\n",
    "    )\n",
    "    no_records: int = Field(\n",
    "        description=\"Size of the dataset in terms of the number of records.\",\n",
    "        rdf_term=HEALTHDCAT.numberOfRecords,\n",
    "        rdf_type=\"xsd:nonNegativeInteger\",\n",
    "    )\n",
    "    population_coverage: List[Union[str, LiteralField]] = Field(\n",
    "        default=None,\n",
    "        description=\"A definition of the population within the dataset\",\n",
    "        rdf_term=HEALTHDCAT.populationCoverage,\n",
    "        rdf_type=\"rdfs_literal\",\n",
    "    )"
   ]
  },
  {
   "cell_type": "markdown",
   "metadata": {},
   "source": [
    "Create list of URIs for distribution"
   ]
  },
  {
   "cell_type": "code",
   "execution_count": 3,
   "metadata": {},
   "outputs": [],
   "source": [
    "STORAGE_IDS_FILE = \"/home/ubuntu/fdp/storage-stuff/file_accession_id_sorted.txt\"\n",
    "DATASET_ID = \"GDID-becadf5a-a1b2\"\n",
    "STORAGE_DOWNLOAD_URL = \"https://download.gdi.biodata.pt\"\n",
    "MEDIA_TYPE_VCF = \"https://www.iana.org/assignments/media-types/application/vcf\"\n",
    "MEDIA_TYPE_CSV = \"https://www.iana.org/assignments/media-types/text/csv\"\n",
    "\n",
    "with open(STORAGE_IDS_FILE, \"r\") as f:\n",
    "    lines = f.read().split(\"\\n\")\n",
    "    lines = list(filter(lambda x: x.strip() != \"\", lines)) # remove blanks\n",
    "\n",
    "# format: (filename, accession_id)\n",
    "storage_ids = []\n",
    "\n",
    "for line in lines:\n",
    "    line = line.replace(5*\" \", \"\\t\") # vim replaced some tabs for 5 spaces\n",
    "    filename, accession_id = line.split(\"\\t\")\n",
    "    storage_ids.append( (filename, accession_id) )\n",
    "    \n",
    "def get_file_access_url(storage_id):\n",
    "    if len(storage_id) != 2:\n",
    "        raise ValueError(\"Expecting tuple from storage_ids\")\n",
    "        \n",
    "    accession_id = storage_id[1]\n",
    "    return f\"{STORAGE_DOWNLOAD_URL}/files/{accession_id}\""
   ]
  },
  {
   "cell_type": "markdown",
   "metadata": {},
   "source": [
    "Now we are ready to define the dataset. We can do that as a Python dictionary.\n",
    "\n",
    "⚠️ As DCAT supports multilingual, Literals must usually be defined as a list. Using the\n",
    "`LiteralField` class, you can define a language for each string."
   ]
  },
  {
   "cell_type": "code",
   "execution_count": null,
   "metadata": {},
   "outputs": [],
   "source": [
    "import datetime\n",
    "\n",
    "from sempyro.dcat.dcat_distribution import DCATDistribution\n",
    "from sempyro.foaf.agent import Agent\n",
    "from sempyro.vcard.vcard import VCard\n",
    "\n",
    "def get_dataset_definition(list_of_distribution_URIs):\n",
    "\n",
    "    dataset_definition = {\n",
    "        \"contact_point\": [VCard(hasEmail=[\"mailto:cto@biodata.pt\"], full_name=[\"BioData.pt Chief Technology Officer\"],\n",
    "                            hasUID=\"https://ror.org/02q7abn51\")],\n",
    "        \"creator\": [Agent(name=[\"BioData.pt\"], identifier=\"https://ror.org/02q7abn51\")],\n",
    "        \"description\": [\"This dataset is being used as part of the GDI Milestone 8, containing VCFs and phenotypic data in CSV format about 41514 samples. The dataset consists only of synthetic data.\"],\n",
    "        #\"distribution\": [\"https://fdp.gdi.biodata.pt/gdi/distribution\", ],\n",
    "        \"distribution\": list_of_distribution_URIs,\n",
    "        \"release_date\": datetime.datetime(2024, 7, 7, 11, 11, 11, tzinfo=datetime.timezone.utc),\n",
    "        \"keyword\": [\"COVID\"],\n",
    "        \"identifier\": [DATASET_ID],\n",
    "        \"update_date\": datetime.datetime(2024,11,4,10,20,5, tzinfo=datetime.timezone.utc),\n",
    "        \"publisher\": [Agent(name=[\"BioData.pt\"], identifier=\"https://ror.org/02q7abn51\")],\n",
    "        \"theme\": [URIRef(\"http://publications.europa.eu/resource/authority/data-theme/HEAL\")],\n",
    "        \"title\": [\"COVID-19 GWAS and Allele Frequency Lookup Dataset with Population 12 (Italian) subset 1\"],\n",
    "        \"license\": URIRef(\"https://creativecommons.org/licenses/by-sa/4.0/\"),\n",
    "        \"no_unique_individuals\": 41514,\n",
    "        \"no_records\": 18382376,\n",
    "        \"population_coverage\": [\"This test dataset covers no real population.\"],\n",
    "        \"min_typical_age\": 18,\n",
    "        \"max_typical_age\": 64,\n",
    "    }\n",
    "    \n",
    "    return dataset_definition\n",
    "\n",
    "def get_distribution_definition(media_type_url, chromosome, access_url) -> DCATDistribution:\n",
    "\n",
    "    distribution_definition = {\n",
    "        \"title\": [f\"GWAS and Allele Frequency Lookup Data Distribution for GDI MS8 - Population 12 (ITA), subset 1, Chromosome {chromosome}.\"],\n",
    "        \"description\": [\"VCF file containing GWAS and allele frequency lookup data of synthetic COVID-19.\"\n",
    "        f\"cases and controls for GDI MS8 demonstration. VCF for chromosome {chromosome} in population 12 (ITA), sub1\"],\n",
    "        #\"access_url\": [\"https://example.com/dataset/GDI-MS8-COVID19.vcf\"],\n",
    "        \"access_url\": [access_url],\n",
    "        #\"media_type\": \"https://www.iana.org/assignments/media-types/application/vcf\",\n",
    "        \"media_type\": media_type_url,\n",
    "        \"license\": URIRef(\"https://creativecommons.org/licenses/by-sa/4.0/\"),\n",
    "        #\"identifier\": [\"GDIF-12345678-90ab-defg\"]\n",
    "    }\n",
    "    \n",
    "    return DCATDistribution(**distribution_definition)\n",
    "\n",
    "def get_distribution_uri(accession_id):\n",
    "    return f\"https://fdp.gdi.biodata.pt/gdi/distribution/{accession_id}\"\n",
    "\n",
    "def get_distribution_subject(accession_id):\n",
    "    distribution_subject = URIRef(get_distribution_uri(accession_id))\n",
    "    return distribution_subject\n",
    "\n",
    "dataset_subject = URIRef(\"https://fdp.gdi.biodata.pt/gdi/dataset\")"
   ]
  },
  {
   "cell_type": "code",
   "execution_count": null,
   "metadata": {},
   "outputs": [],
   "source": [
    "# create dataset stuff\n",
    "\n",
    "# build distribution list\n",
    "\n",
    "dist_accession_ids = [e[1] for e in storage_ids]\n",
    "\n",
    "dist_uris = [get_distribution_uri(e) for e in dist_accession_ids]\n",
    "\n",
    "dataset_definition = get_dataset_definition(dist_uris)\n",
    "\n",
    "example_dataset = GDIDataset(**dataset_definition)\n",
    "print(example_dataset)\n"
   ]
  },
  {
   "cell_type": "markdown",
   "metadata": {},
   "source": [
    "create distribution stuff"
   ]
  },
  {
   "cell_type": "code",
   "execution_count": null,
   "metadata": {},
   "outputs": [],
   "source": [
    "\n",
    "dist_subjects = []\n",
    "dist_definitions = []\n",
    "dist_graphs = []\n",
    "count=0\n",
    "for ids in storage_ids:\n",
    "    count += 1\n",
    "    if count == 23:\n",
    "        chromosome = \"X\"\n",
    "    else:\n",
    "        chromosome = str(count)\n",
    "    \n",
    "    filename = ids[0]\n",
    "    accession_id = ids[1]\n",
    "    \n",
    "    # add dist sub to list\n",
    "    new_dist_sub = get_distribution_subject(accession_id=accession_id)\n",
    "    dist_subjects.append(new_dist_sub)\n",
    "    \n",
    "    # add dist def to list\n",
    "    access_url = get_file_access_url(ids)\n",
    "    new_dist_def = get_distribution_definition(media_type_url=MEDIA_TYPE_VCF, chromosome=chromosome, access_url=access_url)\n",
    "    dist_definitions.append(new_dist_def)\n",
    "    \n",
    "    # create dist graph\n",
    "    new_dist_graph = new_dist_def.to_graph(new_dist_sub)\n",
    "    dist_graphs.append(new_dist_graph)\n",
    "    "
   ]
  },
  {
   "cell_type": "markdown",
   "metadata": {},
   "source": [
    "credentials and connection\n"
   ]
  },
  {
   "cell_type": "code",
   "execution_count": null,
   "metadata": {},
   "outputs": [],
   "source": [
    "fdp_parent_catalog = \"https://fdp.gdi.biodata.pt/catalog/88e146bb-0fb9-4f45-ad57-26f928750773\"\n",
    "fdp_baseurl = \"https://fdp.gdi.biodata.pt\"\n",
    "fdp_user = \"albert.einstein@example.com\"\n",
    "with open(\"/home/ubuntu/fdp/passwd.txt\", \"r\") as f:\n",
    "    passwd = f.read().strip()\n",
    "fdp_pass = passwd\n",
    "\n",
    "import fairclient.fdpclient\n",
    "\n",
    "# Log in to the FAIR Data Point\n",
    "fdpclient = fairclient.fdpclient.FDPClient(base_url=fdp_baseurl, username=fdp_user, password=fdp_pass)\n",
    "\n",
    "\n",
    "example_dataset_graph = example_dataset.to_graph(URIRef(\"https://fdp.gdi.biodata.pt/gdi/dataset\"))\n",
    "# Add a reference to the parent catalog to make the FDP happy\n",
    "example_dataset_graph.add((dataset_subject, DCTERMS.isPartOf, URIRef(fdp_parent_catalog)))\n",
    "\n",
    "\n"
   ]
  },
  {
   "cell_type": "markdown",
   "metadata": {},
   "source": [
    "publish"
   ]
  },
  {
   "cell_type": "code",
   "execution_count": null,
   "metadata": {},
   "outputs": [],
   "source": [
    "# publish dataset\n",
    "new_dataset = fdpclient.create_and_publish(\"dataset\", example_dataset_graph)\n",
    "print(new_dataset)"
   ]
  },
  {
   "cell_type": "code",
   "execution_count": null,
   "metadata": {},
   "outputs": [],
   "source": [
    "dist_graphs\n",
    "dist_fdp_ids = []\n",
    "\n",
    "for idx in range(len(dist_graphs)):\n",
    "    dist_sub = dist_subjects[idx]\n",
    "    dist_graph = dist_graphs[idx]\n",
    "    \n",
    "    dist_graph.add((dist_sub, DCTERMS.isPartOf, URIRef(f\"{new_dataset}\")))\n",
    "    print(f\"dist_sub = {dist_sub}\")\n",
    "    print(f\"dist_def = {dist_definitions[idx]}\")\n",
    "    print(f\"dist_graph = {dist_graph}\")\n",
    "    dist_fdp_id = fdpclient.create_and_publish(resource_type=\"distribution\", metadata=dist_graph)\n",
    "    dist_fdp_ids.append(dist_fdp_id)\n",
    "    print(dist_fdp_id)\n",
    "\n"
   ]
  },
  {
   "cell_type": "markdown",
   "metadata": {},
   "source": [
    "## phenotype distribution"
   ]
  },
  {
   "cell_type": "code",
   "execution_count": 7,
   "metadata": {},
   "outputs": [],
   "source": [
    "# harcoded dataset URI\n",
    "new_dataset = \"https://fdp.gdi.biodata.pt/dataset/661352e6-b08f-42a4-9192-160b3f9e5043\"\n"
   ]
  },
  {
   "cell_type": "code",
   "execution_count": null,
   "metadata": {},
   "outputs": [],
   "source": [
    "pheno_accession_id = \"GDIF-faca7026-a1b5-11ef\"\n",
    "access_url = get_file_access_url( (\"Pop12Sub1_pheno.csv.c4gh\", pheno_accession_id) )\n",
    "\n",
    "pheno_dist_definition = {\n",
    "        \"title\": [f\"GWAS and Allele Frequency Lookup Data Distribution for GDI MS8 - Population 12 (ITA), subset 1, Phenotypes of the individuals.\"],\n",
    "        \"description\": [\"CSV file containing phenotypes in population 12 (ITA), sub1\"],\n",
    "        #\"access_url\": [\"https://example.com/dataset/GDI-MS8-COVID19.vcf\"],\n",
    "        \"access_url\": [access_url],\n",
    "        #\"media_type\": \"https://www.iana.org/assignments/media-types/application/vcf\",\n",
    "        \"media_type\": MEDIA_TYPE_CSV,\n",
    "        \"license\": URIRef(\"https://creativecommons.org/licenses/by-sa/4.0/\"),\n",
    "        #\"identifier\": [\"GDIF-12345678-90ab-defg\"]\n",
    "}\n",
    "\n",
    "pheno_dist = DCATDistribution(**pheno_dist_definition)\n",
    "pheno_sub = get_distribution_subject(pheno_accession_id)\n",
    "\n",
    "pheno_graph = pheno_dist.to_graph(pheno_sub)\n",
    "pheno_graph.add((pheno_sub, DCTERMS.isPartOf, URIRef(f\"{new_dataset}\")))\n",
    "\n",
    "\n",
    "\n"
   ]
  },
  {
   "cell_type": "code",
   "execution_count": null,
   "metadata": {},
   "outputs": [],
   "source": [
    "# publish phenotypic data distribution\n",
    "pheno_fdp_id = fdpclient.create_and_publish(resource_type=\"distribution\", metadata=pheno_graph)\n",
    "print(pheno_fdp_id)"
   ]
  }
 ],
 "metadata": {
  "kernelspec": {
   "display_name": "vcf-venv",
   "language": "python",
   "name": "python3"
  },
  "language_info": {
   "codemirror_mode": {
    "name": "ipython",
    "version": 3
   },
   "file_extension": ".py",
   "mimetype": "text/x-python",
   "name": "python",
   "nbconvert_exporter": "python",
   "pygments_lexer": "ipython3",
   "version": "3.12.3"
  }
 },
 "nbformat": 4,
 "nbformat_minor": 4
}
